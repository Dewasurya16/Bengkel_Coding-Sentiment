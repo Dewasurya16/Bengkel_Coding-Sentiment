{
  "nbformat": 4,
  "nbformat_minor": 0,
  "metadata": {
    "colab": {
      "provenance": []
    },
    "kernelspec": {
      "name": "python3",
      "display_name": "Python 3"
    },
    "language_info": {
      "name": "python"
    }
  },
  "cells": [
    {
      "cell_type": "code",
      "execution_count": null,
      "metadata": {
        "colab": {
          "base_uri": "https://localhost:8080/"
        },
        "id": "awCxjHeA2qif",
        "outputId": "cd8d2704-2c59-48a2-b7a3-08797c7f2aa1"
      },
      "outputs": [
        {
          "output_type": "stream",
          "name": "stdout",
          "text": [
            "--2022-12-12 15:44:10--  https://raw.githubusercontent.com/Dewasurya16/Dataset-Sentiment-/main/Dataset%20Instagram%20Sentiment%20-%20dataset_komentar_instagram_cyberbullying.csv\n",
            "Resolving raw.githubusercontent.com (raw.githubusercontent.com)... 185.199.108.133, 185.199.111.133, 185.199.109.133, ...\n",
            "Connecting to raw.githubusercontent.com (raw.githubusercontent.com)|185.199.108.133|:443... connected.\n",
            "HTTP request sent, awaiting response... 200 OK\n",
            "Length: 61160 (60K) [text/plain]\n",
            "Saving to: ‘Dataset Instagram Sentiment - dataset_komentar_instagram_cyberbullying.csv.1’\n",
            "\n",
            "Dataset Instagram S 100%[===================>]  59.73K  --.-KB/s    in 0.01s   \n",
            "\n",
            "2022-12-12 15:44:11 (4.03 MB/s) - ‘Dataset Instagram Sentiment - dataset_komentar_instagram_cyberbullying.csv.1’ saved [61160/61160]\n",
            "\n"
          ]
        }
      ],
      "source": [
        "!wget https://raw.githubusercontent.com/Dewasurya16/Dataset-Sentiment-/main/Dataset%20Instagram%20Sentiment%20-%20dataset_komentar_instagram_cyberbullying.csv"
      ]
    },
    {
      "cell_type": "code",
      "source": [
        "!pip install Sastrawi"
      ],
      "metadata": {
        "colab": {
          "base_uri": "https://localhost:8080/"
        },
        "id": "Ik14j2ZY3dOV",
        "outputId": "e2a9aaec-ea58-4867-8773-d6b7b579cbb9"
      },
      "execution_count": null,
      "outputs": [
        {
          "output_type": "stream",
          "name": "stdout",
          "text": [
            "Looking in indexes: https://pypi.org/simple, https://us-python.pkg.dev/colab-wheels/public/simple/\n",
            "Requirement already satisfied: Sastrawi in /usr/local/lib/python3.8/dist-packages (1.0.1)\n"
          ]
        }
      ]
    },
    {
      "cell_type": "code",
      "source": [
        "import nltk\n",
        "import pandas as pd\n",
        "import re\n",
        "from nltk.tokenize import sent_tokenize, word_tokenize\n",
        "from nltk.corpus import stopwords\n",
        "from Sastrawi.Stemmer.StemmerFactory import StemmerFactory\n",
        "nltk.download('stopwords')\n",
        "nltk.download('punkt')"
      ],
      "metadata": {
        "colab": {
          "base_uri": "https://localhost:8080/"
        },
        "id": "3zRILpks3mKp",
        "outputId": "49a1a61c-644f-4081-b7f3-ac78560e82a9"
      },
      "execution_count": null,
      "outputs": [
        {
          "output_type": "stream",
          "name": "stderr",
          "text": [
            "[nltk_data] Downloading package stopwords to /root/nltk_data...\n",
            "[nltk_data]   Package stopwords is already up-to-date!\n",
            "[nltk_data] Downloading package punkt to /root/nltk_data...\n",
            "[nltk_data]   Package punkt is already up-to-date!\n"
          ]
        },
        {
          "output_type": "execute_result",
          "data": {
            "text/plain": [
              "True"
            ]
          },
          "metadata": {},
          "execution_count": 22
        }
      ]
    },
    {
      "cell_type": "code",
      "source": [
        "df=pd.read_csv('/content/Dataset Instagram Sentiment - dataset_komentar_instagram_cyberbullying.csv')\n",
        "df.head()"
      ],
      "metadata": {
        "colab": {
          "base_uri": "https://localhost:8080/",
          "height": 206
        },
        "id": "cXwl-H8I3mSN",
        "outputId": "b1d9f496-2189-47fb-9c7e-6375cb837609"
      },
      "execution_count": null,
      "outputs": [
        {
          "output_type": "execute_result",
          "data": {
            "text/plain": [
              "   Sentiment                                               text\n",
              "0          0  <USERNAME> TOLOL!! Gak ada hubungan nya kegugu...\n",
              "1          0  Geblek lo tata...cowo bgt dibela2in balikan......\n",
              "2          0  Kmrn termewek2 skr lengket lg duhhh kok labil ...\n",
              "3          0  Intinya kalau kesel dengan ATT nya, gausah ke ...\n",
              "4          0  hadewwwww permpuan itu lg!!!!sakit jiwa,knp ha..."
            ],
            "text/html": [
              "\n",
              "  <div id=\"df-972b7d6b-ba5b-466e-872e-93b1aabdf960\">\n",
              "    <div class=\"colab-df-container\">\n",
              "      <div>\n",
              "<style scoped>\n",
              "    .dataframe tbody tr th:only-of-type {\n",
              "        vertical-align: middle;\n",
              "    }\n",
              "\n",
              "    .dataframe tbody tr th {\n",
              "        vertical-align: top;\n",
              "    }\n",
              "\n",
              "    .dataframe thead th {\n",
              "        text-align: right;\n",
              "    }\n",
              "</style>\n",
              "<table border=\"1\" class=\"dataframe\">\n",
              "  <thead>\n",
              "    <tr style=\"text-align: right;\">\n",
              "      <th></th>\n",
              "      <th>Sentiment</th>\n",
              "      <th>text</th>\n",
              "    </tr>\n",
              "  </thead>\n",
              "  <tbody>\n",
              "    <tr>\n",
              "      <th>0</th>\n",
              "      <td>0</td>\n",
              "      <td>&lt;USERNAME&gt; TOLOL!! Gak ada hubungan nya kegugu...</td>\n",
              "    </tr>\n",
              "    <tr>\n",
              "      <th>1</th>\n",
              "      <td>0</td>\n",
              "      <td>Geblek lo tata...cowo bgt dibela2in balikan......</td>\n",
              "    </tr>\n",
              "    <tr>\n",
              "      <th>2</th>\n",
              "      <td>0</td>\n",
              "      <td>Kmrn termewek2 skr lengket lg duhhh kok labil ...</td>\n",
              "    </tr>\n",
              "    <tr>\n",
              "      <th>3</th>\n",
              "      <td>0</td>\n",
              "      <td>Intinya kalau kesel dengan ATT nya, gausah ke ...</td>\n",
              "    </tr>\n",
              "    <tr>\n",
              "      <th>4</th>\n",
              "      <td>0</td>\n",
              "      <td>hadewwwww permpuan itu lg!!!!sakit jiwa,knp ha...</td>\n",
              "    </tr>\n",
              "  </tbody>\n",
              "</table>\n",
              "</div>\n",
              "      <button class=\"colab-df-convert\" onclick=\"convertToInteractive('df-972b7d6b-ba5b-466e-872e-93b1aabdf960')\"\n",
              "              title=\"Convert this dataframe to an interactive table.\"\n",
              "              style=\"display:none;\">\n",
              "        \n",
              "  <svg xmlns=\"http://www.w3.org/2000/svg\" height=\"24px\"viewBox=\"0 0 24 24\"\n",
              "       width=\"24px\">\n",
              "    <path d=\"M0 0h24v24H0V0z\" fill=\"none\"/>\n",
              "    <path d=\"M18.56 5.44l.94 2.06.94-2.06 2.06-.94-2.06-.94-.94-2.06-.94 2.06-2.06.94zm-11 1L8.5 8.5l.94-2.06 2.06-.94-2.06-.94L8.5 2.5l-.94 2.06-2.06.94zm10 10l.94 2.06.94-2.06 2.06-.94-2.06-.94-.94-2.06-.94 2.06-2.06.94z\"/><path d=\"M17.41 7.96l-1.37-1.37c-.4-.4-.92-.59-1.43-.59-.52 0-1.04.2-1.43.59L10.3 9.45l-7.72 7.72c-.78.78-.78 2.05 0 2.83L4 21.41c.39.39.9.59 1.41.59.51 0 1.02-.2 1.41-.59l7.78-7.78 2.81-2.81c.8-.78.8-2.07 0-2.86zM5.41 20L4 18.59l7.72-7.72 1.47 1.35L5.41 20z\"/>\n",
              "  </svg>\n",
              "      </button>\n",
              "      \n",
              "  <style>\n",
              "    .colab-df-container {\n",
              "      display:flex;\n",
              "      flex-wrap:wrap;\n",
              "      gap: 12px;\n",
              "    }\n",
              "\n",
              "    .colab-df-convert {\n",
              "      background-color: #E8F0FE;\n",
              "      border: none;\n",
              "      border-radius: 50%;\n",
              "      cursor: pointer;\n",
              "      display: none;\n",
              "      fill: #1967D2;\n",
              "      height: 32px;\n",
              "      padding: 0 0 0 0;\n",
              "      width: 32px;\n",
              "    }\n",
              "\n",
              "    .colab-df-convert:hover {\n",
              "      background-color: #E2EBFA;\n",
              "      box-shadow: 0px 1px 2px rgba(60, 64, 67, 0.3), 0px 1px 3px 1px rgba(60, 64, 67, 0.15);\n",
              "      fill: #174EA6;\n",
              "    }\n",
              "\n",
              "    [theme=dark] .colab-df-convert {\n",
              "      background-color: #3B4455;\n",
              "      fill: #D2E3FC;\n",
              "    }\n",
              "\n",
              "    [theme=dark] .colab-df-convert:hover {\n",
              "      background-color: #434B5C;\n",
              "      box-shadow: 0px 1px 3px 1px rgba(0, 0, 0, 0.15);\n",
              "      filter: drop-shadow(0px 1px 2px rgba(0, 0, 0, 0.3));\n",
              "      fill: #FFFFFF;\n",
              "    }\n",
              "  </style>\n",
              "\n",
              "      <script>\n",
              "        const buttonEl =\n",
              "          document.querySelector('#df-972b7d6b-ba5b-466e-872e-93b1aabdf960 button.colab-df-convert');\n",
              "        buttonEl.style.display =\n",
              "          google.colab.kernel.accessAllowed ? 'block' : 'none';\n",
              "\n",
              "        async function convertToInteractive(key) {\n",
              "          const element = document.querySelector('#df-972b7d6b-ba5b-466e-872e-93b1aabdf960');\n",
              "          const dataTable =\n",
              "            await google.colab.kernel.invokeFunction('convertToInteractive',\n",
              "                                                     [key], {});\n",
              "          if (!dataTable) return;\n",
              "\n",
              "          const docLinkHtml = 'Like what you see? Visit the ' +\n",
              "            '<a target=\"_blank\" href=https://colab.research.google.com/notebooks/data_table.ipynb>data table notebook</a>'\n",
              "            + ' to learn more about interactive tables.';\n",
              "          element.innerHTML = '';\n",
              "          dataTable['output_type'] = 'display_data';\n",
              "          await google.colab.output.renderOutput(dataTable, element);\n",
              "          const docLink = document.createElement('div');\n",
              "          docLink.innerHTML = docLinkHtml;\n",
              "          element.appendChild(docLink);\n",
              "        }\n",
              "      </script>\n",
              "    </div>\n",
              "  </div>\n",
              "  "
            ]
          },
          "metadata": {},
          "execution_count": 23
        }
      ]
    },
    {
      "cell_type": "code",
      "source": [
        "columns=df.columns\n",
        "columns                 #untuk Mengecek Column"
      ],
      "metadata": {
        "colab": {
          "base_uri": "https://localhost:8080/"
        },
        "id": "58uqyXsZ38KE",
        "outputId": "eebcd7e6-e1f3-453e-e67a-a1adf703c7ef"
      },
      "execution_count": null,
      "outputs": [
        {
          "output_type": "execute_result",
          "data": {
            "text/plain": [
              "Index(['Sentiment', 'text'], dtype='object')"
            ]
          },
          "metadata": {},
          "execution_count": 24
        }
      ]
    },
    {
      "cell_type": "code",
      "source": [
        "df.info()  #untuk melihat detail data"
      ],
      "metadata": {
        "colab": {
          "base_uri": "https://localhost:8080/"
        },
        "id": "0oHdgCqOh9h8",
        "outputId": "444100f4-4aba-4586-b56f-5c53da66067c"
      },
      "execution_count": null,
      "outputs": [
        {
          "output_type": "stream",
          "name": "stdout",
          "text": [
            "<class 'pandas.core.frame.DataFrame'>\n",
            "RangeIndex: 400 entries, 0 to 399\n",
            "Data columns (total 2 columns):\n",
            " #   Column     Non-Null Count  Dtype \n",
            "---  ------     --------------  ----- \n",
            " 0   Sentiment  400 non-null    int64 \n",
            " 1   text       400 non-null    object\n",
            "dtypes: int64(1), object(1)\n",
            "memory usage: 6.4+ KB\n"
          ]
        }
      ]
    },
    {
      "cell_type": "code",
      "source": [
        "def text_preprocessing(text):\n",
        "  text = re.sub(r'https?://\\S+|www\\.\\S+', '', text) # Menghapus URL\n",
        "  text = re.sub(r'[-+]?[0-9]+', '', text)           # Menghapus angka\n",
        "  text = re.sub(r'[^\\w\\s]','', text)                # Menghapus karakter tanda baca\n",
        "  text = text.strip()                               # Menghapus whitespaces\n",
        "  return text"
      ],
      "metadata": {
        "id": "cGxxlIwV3--R"
      },
      "execution_count": null,
      "outputs": []
    },
    {
      "cell_type": "code",
      "source": [
        "stopwords_ind = stopwords.words('indonesian')\n",
        "\n",
        "more_stopword = ['tolong', 'nang', 'yg', 'film', 'filmnya', 'indonesia', 'bapak', 'tonton',\n",
        "                'ya', 'dgn', 'kali', 'kisah', 'nntn', 'si', 'harga', 'salah', 'aktor', 'ah', 'furiousmenurutku',\n",
        "                'cerita', 'actingnya', 'beexkuanlin', 'arthur', 'yah', 'radityadika', 'ale', 'bioskop', 'gambar', 'serakah',\n",
        "                'kartini', 'nonton', 'baca', 'hansdavidian', 'bangsa', 'this', 'themummy', 'gila', 'kawin',\n",
        "                'danur', 'meantweets', 'biografi', 'orang', 'hanungbramantyo', 'ttg', 'bayar', 'filmziarah', 'banget',\n",
        "                'guys', 'cinta', 'bikin', 'ngomong', 'bilang', 'filmziarah', 'alien', 'gwa', 'bapak', 'critical', 'eleven', 'criticaleleven',\n",
        "                'danur', 'danurmovie', 'horor', 'filmkartini', 'mbah', 'lihat', 'habis', 'bang', 'dihabisken', 'datar', 'potong', 'rilis',\n",
        "                'beda', 'duh', 'parah', 'ziarah', 'hasil', 'cenanyangflm', 'main', 'nya', 'sejarah', 'perang'\n",
        "                'dapet']                    # Tambahkan kata dalam daftar stopword\n",
        "stopwords_ind = stopwords_ind + more_stopword\n",
        "\n",
        "#fungsi Stopword\n",
        "def remove_stop_words(text):\n",
        "  clean_words = []\n",
        "  text = text.split()\n",
        "  for word in text:\n",
        "      if word not in stopwords_ind:\n",
        "          clean_words.append(word)\n",
        "  return \" \".join(clean_words)"
      ],
      "metadata": {
        "id": "xBHOxI0V4ldk"
      },
      "execution_count": null,
      "outputs": []
    },
    {
      "cell_type": "code",
      "source": [
        "factory = StemmerFactory()\n",
        "stemmer = factory.create_stemmer()\n",
        "\n",
        "# Buat fungsi untuk langkah stemming bahasa Indonesia\n",
        "def stemming(text):\n",
        "  text = stemmer.stem(text)\n",
        "  return text"
      ],
      "metadata": {
        "id": "aFHHub8V7NCe"
      },
      "execution_count": null,
      "outputs": []
    },
    {
      "cell_type": "code",
      "source": [
        "def tokenize(text):\n",
        "    tokens = nltk.word_tokenize(text)\n",
        "    return [w for w in tokens if w.isalpha()]    \n",
        "    df['tokenized'] = df.apply(lambda x: tokenize(x['text']), axis=1)\n",
        "    df[['tokenized']].head()"
      ],
      "metadata": {
        "id": "nDoLyIWO7eYi"
      },
      "execution_count": null,
      "outputs": []
    },
    {
      "cell_type": "code",
      "source": [
        "raw_sample = df['text'].iloc[10]\n",
        "case_folding = text_preprocessing(raw_sample)\n",
        "stopword_removal = remove_stop_words(case_folding)\n",
        "text_stemming = stemming(stopword_removal)\n",
        "token = tokenize(text_stemming)\n",
        "\n",
        "print('Raw data\\t\\t: ', raw_sample)\n",
        "print('Case folding\\t\\t: ', case_folding)\n",
        "print('Stopword removal\\t: ', stopword_removal)\n",
        "print('Stemming\\t\\t: ', text_stemming)\n",
        "print('Tokenizer\\t\\t: ', token)"
      ],
      "metadata": {
        "colab": {
          "base_uri": "https://localhost:8080/"
        },
        "id": "loIER0cC7ee6",
        "outputId": "a867a13b-ba9f-4a1d-fe80-333394491aaf"
      },
      "execution_count": null,
      "outputs": [
        {
          "output_type": "stream",
          "name": "stdout",
          "text": [
            "Raw data\t\t:  Syarat sah nikah menurut agama islam hanya 5 yaitu : adanya CPP, adanya CPW, saksi, wali nikah dan mas kawin/mahar. Perkara makeup gak manglingi bukan syarat sah pernikahan. Sekalipun gak makeup tapi syarat yg 5 tersebut terpenuhi maka pernikahannya SAH yak emak emak julids\n",
            "Case folding\t\t:  Syarat sah nikah menurut agama islam hanya  yaitu  adanya CPP adanya CPW saksi wali nikah dan mas kawinmahar Perkara makeup gak manglingi bukan syarat sah pernikahan Sekalipun gak makeup tapi syarat yg  tersebut terpenuhi maka pernikahannya SAH yak emak emak julids\n",
            "Stopword removal\t:  Syarat sah nikah agama islam CPP CPW saksi wali nikah mas kawinmahar Perkara makeup gak manglingi syarat sah pernikahan Sekalipun gak makeup syarat terpenuhi pernikahannya SAH yak emak emak julids\n",
            "Stemming\t\t:  syarat sah nikah agama islam cpp cpw saksi wali nikah mas kawinmahar perkara makeup gak manglingi syarat sah nikah sekalipun gak makeup syarat penuh nikah sah yak emak emak julids\n",
            "Tokenizer\t\t:  ['syarat', 'sah', 'nikah', 'agama', 'islam', 'cpp', 'cpw', 'saksi', 'wali', 'nikah', 'mas', 'kawinmahar', 'perkara', 'makeup', 'gak', 'manglingi', 'syarat', 'sah', 'nikah', 'sekalipun', 'gak', 'makeup', 'syarat', 'penuh', 'nikah', 'sah', 'yak', 'emak', 'emak', 'julids']\n"
          ]
        }
      ]
    },
    {
      "cell_type": "code",
      "source": [
        "def text_preprocessing_process(text):\n",
        "  text = text_preprocessing(text)\n",
        "  text = remove_stop_words(text)\n",
        "  text = stemming(text)\n",
        "  text = tokenize(text)\n",
        "  return text"
      ],
      "metadata": {
        "id": "fLu8G7CN7soE"
      },
      "execution_count": null,
      "outputs": []
    },
    {
      "cell_type": "code",
      "source": [
        "%time df['clean'] = df['text'].apply(text_preprocessing_process)\n",
        "df['clean'] = df[\"clean\"].astype(str).str.lower()"
      ],
      "metadata": {
        "colab": {
          "base_uri": "https://localhost:8080/"
        },
        "id": "GybPRo6W7uk5",
        "outputId": "5d11de44-9e0c-45a3-b4ae-ab4804b7d5c4"
      },
      "execution_count": null,
      "outputs": [
        {
          "output_type": "stream",
          "name": "stdout",
          "text": [
            "CPU times: user 4min 48s, sys: 1.11 s, total: 4min 50s\n",
            "Wall time: 4min 50s\n"
          ]
        }
      ]
    },
    {
      "cell_type": "code",
      "source": [
        "df"
      ],
      "metadata": {
        "colab": {
          "base_uri": "https://localhost:8080/",
          "height": 641
        },
        "id": "Mrxq9yCT84R-",
        "outputId": "d37d14eb-ecf7-4129-8c5f-a13c4a3fbf9c"
      },
      "execution_count": null,
      "outputs": [
        {
          "output_type": "execute_result",
          "data": {
            "text/plain": [
              "     Sentiment                                               text  \\\n",
              "0            0  <USERNAME> TOLOL!! Gak ada hubungan nya kegugu...   \n",
              "1            0  Geblek lo tata...cowo bgt dibela2in balikan......   \n",
              "2            0  Kmrn termewek2 skr lengket lg duhhh kok labil ...   \n",
              "3            0  Intinya kalau kesel dengan ATT nya, gausah ke ...   \n",
              "4            0  hadewwwww permpuan itu lg!!!!sakit jiwa,knp ha...   \n",
              "..         ...                                                ...   \n",
              "395          1  Bangga sama suami yg selalu ingat istri disela...   \n",
              "396          1  Apaoun pekerjaannya yg penting halal u tuk men...   \n",
              "397          1  Gojek itu mayoritas pegangguran yang lama gak ...   \n",
              "398          1   <USERNAME> aslinya cantik dan ayu loh mbak kr...   \n",
              "399          1   <USERNAME> suami saya seumuran sama saya mba,...   \n",
              "\n",
              "                                                 clean  \n",
              "0    ['username', 'tolol', 'gak', 'hubung', 'gugur'...  \n",
              "1    ['geblek', 'lo', 'tatacowo', 'bgt', 'bain', 'b...  \n",
              "2    ['kmrn', 'mewek', 'skr', 'lengket', 'lg', 'duh...  \n",
              "3    ['inti', 'kesel', 'att', 'gausah', 'anak', 'ka...  \n",
              "4    ['hadewwwww', 'permpuan', 'lgsakit', 'jiwaknp'...  \n",
              "..                                                 ...  \n",
              "395  ['bangga', 'suami', 'istri', 'sela', 'apa', 'p...  \n",
              "396  ['apaoun', 'kerja', 'halal', 'u', 'tuk', 'nafk...  \n",
              "397  ['gojek', 'mayoritas', 'pegangguran', 'gak', '...  \n",
              "398  ['username', 'asli', 'cantik', 'ayu', 'loh', '...  \n",
              "399  ['username', 'suami', 'umur', 'mba', 'tua', 'a...  \n",
              "\n",
              "[400 rows x 3 columns]"
            ],
            "text/html": [
              "\n",
              "  <div id=\"df-357d2ea5-51a2-463a-82e7-6d20b0787f02\">\n",
              "    <div class=\"colab-df-container\">\n",
              "      <div>\n",
              "<style scoped>\n",
              "    .dataframe tbody tr th:only-of-type {\n",
              "        vertical-align: middle;\n",
              "    }\n",
              "\n",
              "    .dataframe tbody tr th {\n",
              "        vertical-align: top;\n",
              "    }\n",
              "\n",
              "    .dataframe thead th {\n",
              "        text-align: right;\n",
              "    }\n",
              "</style>\n",
              "<table border=\"1\" class=\"dataframe\">\n",
              "  <thead>\n",
              "    <tr style=\"text-align: right;\">\n",
              "      <th></th>\n",
              "      <th>Sentiment</th>\n",
              "      <th>text</th>\n",
              "      <th>clean</th>\n",
              "    </tr>\n",
              "  </thead>\n",
              "  <tbody>\n",
              "    <tr>\n",
              "      <th>0</th>\n",
              "      <td>0</td>\n",
              "      <td>&lt;USERNAME&gt; TOLOL!! Gak ada hubungan nya kegugu...</td>\n",
              "      <td>['username', 'tolol', 'gak', 'hubung', 'gugur'...</td>\n",
              "    </tr>\n",
              "    <tr>\n",
              "      <th>1</th>\n",
              "      <td>0</td>\n",
              "      <td>Geblek lo tata...cowo bgt dibela2in balikan......</td>\n",
              "      <td>['geblek', 'lo', 'tatacowo', 'bgt', 'bain', 'b...</td>\n",
              "    </tr>\n",
              "    <tr>\n",
              "      <th>2</th>\n",
              "      <td>0</td>\n",
              "      <td>Kmrn termewek2 skr lengket lg duhhh kok labil ...</td>\n",
              "      <td>['kmrn', 'mewek', 'skr', 'lengket', 'lg', 'duh...</td>\n",
              "    </tr>\n",
              "    <tr>\n",
              "      <th>3</th>\n",
              "      <td>0</td>\n",
              "      <td>Intinya kalau kesel dengan ATT nya, gausah ke ...</td>\n",
              "      <td>['inti', 'kesel', 'att', 'gausah', 'anak', 'ka...</td>\n",
              "    </tr>\n",
              "    <tr>\n",
              "      <th>4</th>\n",
              "      <td>0</td>\n",
              "      <td>hadewwwww permpuan itu lg!!!!sakit jiwa,knp ha...</td>\n",
              "      <td>['hadewwwww', 'permpuan', 'lgsakit', 'jiwaknp'...</td>\n",
              "    </tr>\n",
              "    <tr>\n",
              "      <th>...</th>\n",
              "      <td>...</td>\n",
              "      <td>...</td>\n",
              "      <td>...</td>\n",
              "    </tr>\n",
              "    <tr>\n",
              "      <th>395</th>\n",
              "      <td>1</td>\n",
              "      <td>Bangga sama suami yg selalu ingat istri disela...</td>\n",
              "      <td>['bangga', 'suami', 'istri', 'sela', 'apa', 'p...</td>\n",
              "    </tr>\n",
              "    <tr>\n",
              "      <th>396</th>\n",
              "      <td>1</td>\n",
              "      <td>Apaoun pekerjaannya yg penting halal u tuk men...</td>\n",
              "      <td>['apaoun', 'kerja', 'halal', 'u', 'tuk', 'nafk...</td>\n",
              "    </tr>\n",
              "    <tr>\n",
              "      <th>397</th>\n",
              "      <td>1</td>\n",
              "      <td>Gojek itu mayoritas pegangguran yang lama gak ...</td>\n",
              "      <td>['gojek', 'mayoritas', 'pegangguran', 'gak', '...</td>\n",
              "    </tr>\n",
              "    <tr>\n",
              "      <th>398</th>\n",
              "      <td>1</td>\n",
              "      <td>&lt;USERNAME&gt; aslinya cantik dan ayu loh mbak kr...</td>\n",
              "      <td>['username', 'asli', 'cantik', 'ayu', 'loh', '...</td>\n",
              "    </tr>\n",
              "    <tr>\n",
              "      <th>399</th>\n",
              "      <td>1</td>\n",
              "      <td>&lt;USERNAME&gt; suami saya seumuran sama saya mba,...</td>\n",
              "      <td>['username', 'suami', 'umur', 'mba', 'tua', 'a...</td>\n",
              "    </tr>\n",
              "  </tbody>\n",
              "</table>\n",
              "<p>400 rows × 3 columns</p>\n",
              "</div>\n",
              "      <button class=\"colab-df-convert\" onclick=\"convertToInteractive('df-357d2ea5-51a2-463a-82e7-6d20b0787f02')\"\n",
              "              title=\"Convert this dataframe to an interactive table.\"\n",
              "              style=\"display:none;\">\n",
              "        \n",
              "  <svg xmlns=\"http://www.w3.org/2000/svg\" height=\"24px\"viewBox=\"0 0 24 24\"\n",
              "       width=\"24px\">\n",
              "    <path d=\"M0 0h24v24H0V0z\" fill=\"none\"/>\n",
              "    <path d=\"M18.56 5.44l.94 2.06.94-2.06 2.06-.94-2.06-.94-.94-2.06-.94 2.06-2.06.94zm-11 1L8.5 8.5l.94-2.06 2.06-.94-2.06-.94L8.5 2.5l-.94 2.06-2.06.94zm10 10l.94 2.06.94-2.06 2.06-.94-2.06-.94-.94-2.06-.94 2.06-2.06.94z\"/><path d=\"M17.41 7.96l-1.37-1.37c-.4-.4-.92-.59-1.43-.59-.52 0-1.04.2-1.43.59L10.3 9.45l-7.72 7.72c-.78.78-.78 2.05 0 2.83L4 21.41c.39.39.9.59 1.41.59.51 0 1.02-.2 1.41-.59l7.78-7.78 2.81-2.81c.8-.78.8-2.07 0-2.86zM5.41 20L4 18.59l7.72-7.72 1.47 1.35L5.41 20z\"/>\n",
              "  </svg>\n",
              "      </button>\n",
              "      \n",
              "  <style>\n",
              "    .colab-df-container {\n",
              "      display:flex;\n",
              "      flex-wrap:wrap;\n",
              "      gap: 12px;\n",
              "    }\n",
              "\n",
              "    .colab-df-convert {\n",
              "      background-color: #E8F0FE;\n",
              "      border: none;\n",
              "      border-radius: 50%;\n",
              "      cursor: pointer;\n",
              "      display: none;\n",
              "      fill: #1967D2;\n",
              "      height: 32px;\n",
              "      padding: 0 0 0 0;\n",
              "      width: 32px;\n",
              "    }\n",
              "\n",
              "    .colab-df-convert:hover {\n",
              "      background-color: #E2EBFA;\n",
              "      box-shadow: 0px 1px 2px rgba(60, 64, 67, 0.3), 0px 1px 3px 1px rgba(60, 64, 67, 0.15);\n",
              "      fill: #174EA6;\n",
              "    }\n",
              "\n",
              "    [theme=dark] .colab-df-convert {\n",
              "      background-color: #3B4455;\n",
              "      fill: #D2E3FC;\n",
              "    }\n",
              "\n",
              "    [theme=dark] .colab-df-convert:hover {\n",
              "      background-color: #434B5C;\n",
              "      box-shadow: 0px 1px 3px 1px rgba(0, 0, 0, 0.15);\n",
              "      filter: drop-shadow(0px 1px 2px rgba(0, 0, 0, 0.3));\n",
              "      fill: #FFFFFF;\n",
              "    }\n",
              "  </style>\n",
              "\n",
              "      <script>\n",
              "        const buttonEl =\n",
              "          document.querySelector('#df-357d2ea5-51a2-463a-82e7-6d20b0787f02 button.colab-df-convert');\n",
              "        buttonEl.style.display =\n",
              "          google.colab.kernel.accessAllowed ? 'block' : 'none';\n",
              "\n",
              "        async function convertToInteractive(key) {\n",
              "          const element = document.querySelector('#df-357d2ea5-51a2-463a-82e7-6d20b0787f02');\n",
              "          const dataTable =\n",
              "            await google.colab.kernel.invokeFunction('convertToInteractive',\n",
              "                                                     [key], {});\n",
              "          if (!dataTable) return;\n",
              "\n",
              "          const docLinkHtml = 'Like what you see? Visit the ' +\n",
              "            '<a target=\"_blank\" href=https://colab.research.google.com/notebooks/data_table.ipynb>data table notebook</a>'\n",
              "            + ' to learn more about interactive tables.';\n",
              "          element.innerHTML = '';\n",
              "          dataTable['output_type'] = 'display_data';\n",
              "          await google.colab.output.renderOutput(dataTable, element);\n",
              "          const docLink = document.createElement('div');\n",
              "          docLink.innerHTML = docLinkHtml;\n",
              "          element.appendChild(docLink);\n",
              "        }\n",
              "      </script>\n",
              "    </div>\n",
              "  </div>\n",
              "  "
            ]
          },
          "metadata": {},
          "execution_count": 33
        }
      ]
    },
    {
      "cell_type": "code",
      "source": [
        "from sklearn.feature_extraction.text import TfidfVectorizer\n",
        "from sklearn.naive_bayes import GaussianNB\n",
        "\n",
        "vectorizer = TfidfVectorizer (max_features=2500)\n",
        "model_g = GaussianNB()"
      ],
      "metadata": {
        "id": "cpVukJidjh4L"
      },
      "execution_count": null,
      "outputs": []
    },
    {
      "cell_type": "code",
      "source": [
        "v_data = vectorizer.fit_transform(df['clean']).toarray()\n",
        "\n",
        "print (v_data)"
      ],
      "metadata": {
        "colab": {
          "base_uri": "https://localhost:8080/"
        },
        "id": "mmfUs7JbjuqI",
        "outputId": "ede8130e-508f-449c-d2ac-900e9f71dbe1"
      },
      "execution_count": null,
      "outputs": [
        {
          "output_type": "stream",
          "name": "stdout",
          "text": [
            "[[0. 0. 0. ... 0. 0. 0.]\n",
            " [0. 0. 0. ... 0. 0. 0.]\n",
            " [0. 0. 0. ... 0. 0. 0.]\n",
            " ...\n",
            " [0. 0. 0. ... 0. 0. 0.]\n",
            " [0. 0. 0. ... 0. 0. 0.]\n",
            " [0. 0. 0. ... 0. 0. 0.]]\n"
          ]
        }
      ]
    },
    {
      "cell_type": "code",
      "source": [
        "from sklearn.model_selection import train_test_split\n",
        "\n",
        "X_train, X_test, y_train, y_test = train_test_split(v_data, df['Sentiment'], test_size=0.2, random_state=0)\n",
        "model_g.fit(X_train,y_train)"
      ],
      "metadata": {
        "colab": {
          "base_uri": "https://localhost:8080/"
        },
        "id": "rl-Cr0Jusjs0",
        "outputId": "ddb70e1e-c040-4888-b1b7-e8a8eea0e169"
      },
      "execution_count": null,
      "outputs": [
        {
          "output_type": "execute_result",
          "data": {
            "text/plain": [
              "GaussianNB()"
            ]
          },
          "metadata": {},
          "execution_count": 42
        }
      ]
    },
    {
      "cell_type": "code",
      "source": [
        "from sklearn.metrics import classification_report, confusion_matrix, accuracy_score\n",
        "\n",
        "y_preds = model_g.predict(X_test)\n",
        "\n",
        "print(confusion_matrix(y_test,y_preds))\n",
        "print(classification_report(y_test,y_preds))\n",
        "print('nilai akurasinya adalah ',accuracy_score(y_test, y_preds))"
      ],
      "metadata": {
        "colab": {
          "base_uri": "https://localhost:8080/"
        },
        "id": "_zABuWc2tBE6",
        "outputId": "8785711f-9823-4035-8711-7ae4383fab5e"
      },
      "execution_count": null,
      "outputs": [
        {
          "output_type": "stream",
          "name": "stdout",
          "text": [
            "[[36 10]\n",
            " [ 8 26]]\n",
            "              precision    recall  f1-score   support\n",
            "\n",
            "           0       0.82      0.78      0.80        46\n",
            "           1       0.72      0.76      0.74        34\n",
            "\n",
            "    accuracy                           0.78        80\n",
            "   macro avg       0.77      0.77      0.77        80\n",
            "weighted avg       0.78      0.78      0.78        80\n",
            "\n",
            "nilai akurasinya adalah  0.775\n"
          ]
        }
      ]
    },
    {
      "cell_type": "code",
      "source": [
        "text = 'berita itu sungguh sangat bedampak baik bagi mental para pembaca'\n",
        "v_data = vectorizer.transform([text]).toarray()\n",
        "y_preds = model_g.predict(v_data)\n",
        "\n",
        "#dengan asumsi bahwa 1 merupakan label positif\n",
        "if y_preds == 1:\n",
        "    print('Positif')\n",
        "else:\n",
        "    print('Negatif')"
      ],
      "metadata": {
        "colab": {
          "base_uri": "https://localhost:8080/"
        },
        "id": "tOud8b9otBS7",
        "outputId": "12e7bbcf-5d0c-45f4-c873-c8fc359f6fca"
      },
      "execution_count": null,
      "outputs": [
        {
          "output_type": "stream",
          "name": "stdout",
          "text": [
            "Positif\n"
          ]
        }
      ]
    }
  ]
}