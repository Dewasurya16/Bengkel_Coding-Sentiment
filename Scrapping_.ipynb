{
  "nbformat": 4,
  "nbformat_minor": 0,
  "metadata": {
    "colab": {
      "provenance": []
    },
    "kernelspec": {
      "name": "python3",
      "display_name": "Python 3"
    },
    "language_info": {
      "name": "python"
    }
  },
  "cells": [
    {
      "cell_type": "code",
      "execution_count": 5,
      "metadata": {
        "colab": {
          "base_uri": "https://localhost:8080/"
        },
        "id": "jy8DLZqddRQ4",
        "outputId": "8eb8c359-db24-4db9-c36b-fbadac4fd99f"
      },
      "outputs": [
        {
          "output_type": "stream",
          "name": "stdout",
          "text": [
            "Looking in indexes: https://pypi.org/simple, https://us-python.pkg.dev/colab-wheels/public/simple/\n",
            "Requirement already satisfied: snscrape in /usr/local/lib/python3.8/dist-packages (0.4.3.20220106)\n",
            "Requirement already satisfied: lxml in /usr/local/lib/python3.8/dist-packages (from snscrape) (4.9.2)\n",
            "Requirement already satisfied: requests[socks] in /usr/local/lib/python3.8/dist-packages (from snscrape) (2.23.0)\n",
            "Requirement already satisfied: beautifulsoup4 in /usr/local/lib/python3.8/dist-packages (from snscrape) (4.6.3)\n",
            "Requirement already satisfied: filelock in /usr/local/lib/python3.8/dist-packages (from snscrape) (3.8.2)\n",
            "Requirement already satisfied: pytz in /usr/local/lib/python3.8/dist-packages (from snscrape) (2022.6)\n",
            "Requirement already satisfied: idna<3,>=2.5 in /usr/local/lib/python3.8/dist-packages (from requests[socks]->snscrape) (2.10)\n",
            "Requirement already satisfied: certifi>=2017.4.17 in /usr/local/lib/python3.8/dist-packages (from requests[socks]->snscrape) (2022.12.7)\n",
            "Requirement already satisfied: urllib3!=1.25.0,!=1.25.1,<1.26,>=1.21.1 in /usr/local/lib/python3.8/dist-packages (from requests[socks]->snscrape) (1.24.3)\n",
            "Requirement already satisfied: chardet<4,>=3.0.2 in /usr/local/lib/python3.8/dist-packages (from requests[socks]->snscrape) (3.0.4)\n",
            "Requirement already satisfied: PySocks!=1.5.7,>=1.5.6 in /usr/local/lib/python3.8/dist-packages (from requests[socks]->snscrape) (1.7.1)\n"
          ]
        }
      ],
      "source": [
        "!pip install snscrape\n",
        "     "
      ]
    },
    {
      "cell_type": "code",
      "source": [
        "\n",
        "\n",
        "import snscrape.modules.twitter as sntwitter\n",
        "import pandas as pd\n",
        "\n",
        "query = \"(from:susipudjiastuti) until:2021-06-15 since:2019-11-13\"\n",
        "tweets = []\n",
        "limit = 500\n",
        "\n",
        "\n",
        "for tweet in sntwitter.TwitterSearchScraper(query).get_items():\n",
        "    \n",
        "    # print(vars(tweet))\n",
        "    # break\n",
        "    if len(tweets) == limit:\n",
        "        break\n",
        "    else:\n",
        "        tweets.append([tweet.date, tweet.username, tweet.content])\n",
        "        \n",
        "df = pd.DataFrame(tweets, columns=['Date', 'User', 'Tweet'])\n",
        "print(df)\n",
        "\n",
        "df.to_csv('tweets.csv')\n",
        "     \n"
      ],
      "metadata": {
        "colab": {
          "base_uri": "https://localhost:8080/"
        },
        "id": "FBmGUH-udhKu",
        "outputId": "892fbe72-5d45-4cdf-ae67-337d960a741e"
      },
      "execution_count": 11,
      "outputs": [
        {
          "output_type": "stream",
          "name": "stderr",
          "text": [
            "<ipython-input-11-1f898e8375f7>:16: FutureWarning: username is deprecated, use user.username instead\n",
            "  tweets.append([tweet.date, tweet.username, tweet.content])\n"
          ]
        },
        {
          "output_type": "stream",
          "name": "stdout",
          "text": [
            "                         Date             User  \\\n",
            "0   2021-06-14 22:42:41+00:00  susipudjiastuti   \n",
            "1   2021-06-14 12:15:50+00:00  susipudjiastuti   \n",
            "2   2021-06-14 11:54:30+00:00  susipudjiastuti   \n",
            "3   2021-06-14 10:31:43+00:00  susipudjiastuti   \n",
            "4   2021-06-14 10:17:04+00:00  susipudjiastuti   \n",
            "..                        ...              ...   \n",
            "495 2021-04-25 10:22:15+00:00  susipudjiastuti   \n",
            "496 2021-04-24 23:10:33+00:00  susipudjiastuti   \n",
            "497 2021-04-24 23:05:09+00:00  susipudjiastuti   \n",
            "498 2021-04-24 22:12:58+00:00  susipudjiastuti   \n",
            "499 2021-04-24 12:04:08+00:00  susipudjiastuti   \n",
            "\n",
            "                                                 Tweet  \n",
            "0             Rest in Peace 💐💐💐https://t.co/SkDNwAnTrw  \n",
            "1      https://t.co/UYhkm8bjuG https://t.co/ddRjdMbVAr  \n",
            "2    Bekerja adalah melakukan apa saja untuk kenaik...  \n",
            "3                              @BishamonAvatar Yes I m  \n",
            "4    @kompascom Bukan cuma RS .. banyak fasilitas p...  \n",
            "..                                                 ...  \n",
            "495  Wira Ananta Rudhira Tabah Sampai Akhir Jalesve...  \n",
            "496  @BillGates @BarackObama @MichelleObama please ...  \n",
            "497                @alisyarief https://t.co/epuFex3OwS  \n",
            "498  Ya Alloh....bersama -Mu putra2 terbaik Bangsa ...  \n",
            "499                                       @business 🥲🥲  \n",
            "\n",
            "[500 rows x 3 columns]\n"
          ]
        }
      ]
    }
  ]
}