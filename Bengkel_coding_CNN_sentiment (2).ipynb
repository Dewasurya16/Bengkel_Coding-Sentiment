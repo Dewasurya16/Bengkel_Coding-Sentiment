{
  "cells": [
    {
      "cell_type": "code",
      "execution_count": 1,
      "metadata": {
        "colab": {
          "base_uri": "https://localhost:8080/"
        },
        "id": "PcGiGmSOcsrO",
        "outputId": "143e4c52-5320-4ca1-cfa7-da9e28d12328"
      },
      "outputs": [
        {
          "output_type": "stream",
          "name": "stdout",
          "text": [
            "--2022-12-15 16:59:12--  https://raw.githubusercontent.com/Dewasurya16/Dataset-Sentiment-/main/Dataset%20Instagram%20Sentiment.csv\n",
            "Resolving raw.githubusercontent.com (raw.githubusercontent.com)... 185.199.110.133, 185.199.109.133, 185.199.111.133, ...\n",
            "Connecting to raw.githubusercontent.com (raw.githubusercontent.com)|185.199.110.133|:443... connected.\n",
            "HTTP request sent, awaiting response... 200 OK\n",
            "Length: 61158 (60K) [text/plain]\n",
            "Saving to: ‘Dataset Instagram Sentiment.csv’\n",
            "\n",
            "\r          Dataset I   0%[                    ]       0  --.-KB/s               \rDataset Instagram S 100%[===================>]  59.72K  --.-KB/s    in 0.006s  \n",
            "\n",
            "2022-12-15 16:59:13 (10.4 MB/s) - ‘Dataset Instagram Sentiment.csv’ saved [61158/61158]\n",
            "\n"
          ]
        }
      ],
      "source": [
        "!wget https://raw.githubusercontent.com/Dewasurya16/Dataset-Sentiment-/main/Dataset%20Instagram%20Sentiment.csv"
      ]
    },
    {
      "cell_type": "code",
      "execution_count": 2,
      "metadata": {
        "colab": {
          "base_uri": "https://localhost:8080/"
        },
        "id": "aRkAz_P8xW93",
        "outputId": "313c8209-93e9-4034-ffad-70717b7d97a0"
      },
      "outputs": [
        {
          "output_type": "stream",
          "name": "stderr",
          "text": [
            "[nltk_data] Downloading package stopwords to /root/nltk_data...\n",
            "[nltk_data]   Unzipping corpora/stopwords.zip.\n",
            "[nltk_data] Downloading package punkt to /root/nltk_data...\n",
            "[nltk_data]   Unzipping tokenizers/punkt.zip.\n"
          ]
        },
        {
          "output_type": "execute_result",
          "data": {
            "text/plain": [
              "True"
            ]
          },
          "metadata": {},
          "execution_count": 2
        }
      ],
      "source": [
        "import nltk\n",
        "nltk.download('stopwords')\n",
        "nltk.download('punkt')"
      ]
    },
    {
      "cell_type": "code",
      "execution_count": 3,
      "metadata": {
        "colab": {
          "base_uri": "https://localhost:8080/"
        },
        "id": "vew--ESdx2pm",
        "outputId": "4be03c85-ae9d-4b80-c0e5-754a74b51e73"
      },
      "outputs": [
        {
          "output_type": "stream",
          "name": "stdout",
          "text": [
            "Looking in indexes: https://pypi.org/simple, https://us-python.pkg.dev/colab-wheels/public/simple/\n",
            "Collecting Sastrawi\n",
            "  Downloading Sastrawi-1.0.1-py2.py3-none-any.whl (209 kB)\n",
            "\u001b[K     |████████████████████████████████| 209 kB 13.5 MB/s \n",
            "\u001b[?25hInstalling collected packages: Sastrawi\n",
            "Successfully installed Sastrawi-1.0.1\n"
          ]
        }
      ],
      "source": [
        "!pip install Sastrawi"
      ]
    },
    {
      "cell_type": "code",
      "execution_count": 4,
      "metadata": {
        "colab": {
          "base_uri": "https://localhost:8080/",
          "height": 206
        },
        "id": "FiDuP4DUdIdl",
        "outputId": "4142b23b-812b-4b99-9e51-5c4d92d38f28"
      },
      "outputs": [
        {
          "output_type": "execute_result",
          "data": {
            "text/plain": [
              "   Sentiment                                               teks\n",
              "0          0  <USERNAME> TOLOL!! Gak ada hubungan nya kegugu...\n",
              "1          0  Geblek lo tata...cowo bgt dibela2in balikan......\n",
              "2          0  Kmrn termewek2 skr lengket lg duhhh kok labil ...\n",
              "3          0  Intinya kalau kesel dengan ATT nya, gausah ke ...\n",
              "4          0  hadewwwww permpuan itu lg!!!!sakit jiwa,knp ha..."
            ],
            "text/html": [
              "\n",
              "  <div id=\"df-1b519153-e699-4591-9297-1d123a3cc4df\">\n",
              "    <div class=\"colab-df-container\">\n",
              "      <div>\n",
              "<style scoped>\n",
              "    .dataframe tbody tr th:only-of-type {\n",
              "        vertical-align: middle;\n",
              "    }\n",
              "\n",
              "    .dataframe tbody tr th {\n",
              "        vertical-align: top;\n",
              "    }\n",
              "\n",
              "    .dataframe thead th {\n",
              "        text-align: right;\n",
              "    }\n",
              "</style>\n",
              "<table border=\"1\" class=\"dataframe\">\n",
              "  <thead>\n",
              "    <tr style=\"text-align: right;\">\n",
              "      <th></th>\n",
              "      <th>Sentiment</th>\n",
              "      <th>teks</th>\n",
              "    </tr>\n",
              "  </thead>\n",
              "  <tbody>\n",
              "    <tr>\n",
              "      <th>0</th>\n",
              "      <td>0</td>\n",
              "      <td>&lt;USERNAME&gt; TOLOL!! Gak ada hubungan nya kegugu...</td>\n",
              "    </tr>\n",
              "    <tr>\n",
              "      <th>1</th>\n",
              "      <td>0</td>\n",
              "      <td>Geblek lo tata...cowo bgt dibela2in balikan......</td>\n",
              "    </tr>\n",
              "    <tr>\n",
              "      <th>2</th>\n",
              "      <td>0</td>\n",
              "      <td>Kmrn termewek2 skr lengket lg duhhh kok labil ...</td>\n",
              "    </tr>\n",
              "    <tr>\n",
              "      <th>3</th>\n",
              "      <td>0</td>\n",
              "      <td>Intinya kalau kesel dengan ATT nya, gausah ke ...</td>\n",
              "    </tr>\n",
              "    <tr>\n",
              "      <th>4</th>\n",
              "      <td>0</td>\n",
              "      <td>hadewwwww permpuan itu lg!!!!sakit jiwa,knp ha...</td>\n",
              "    </tr>\n",
              "  </tbody>\n",
              "</table>\n",
              "</div>\n",
              "      <button class=\"colab-df-convert\" onclick=\"convertToInteractive('df-1b519153-e699-4591-9297-1d123a3cc4df')\"\n",
              "              title=\"Convert this dataframe to an interactive table.\"\n",
              "              style=\"display:none;\">\n",
              "        \n",
              "  <svg xmlns=\"http://www.w3.org/2000/svg\" height=\"24px\"viewBox=\"0 0 24 24\"\n",
              "       width=\"24px\">\n",
              "    <path d=\"M0 0h24v24H0V0z\" fill=\"none\"/>\n",
              "    <path d=\"M18.56 5.44l.94 2.06.94-2.06 2.06-.94-2.06-.94-.94-2.06-.94 2.06-2.06.94zm-11 1L8.5 8.5l.94-2.06 2.06-.94-2.06-.94L8.5 2.5l-.94 2.06-2.06.94zm10 10l.94 2.06.94-2.06 2.06-.94-2.06-.94-.94-2.06-.94 2.06-2.06.94z\"/><path d=\"M17.41 7.96l-1.37-1.37c-.4-.4-.92-.59-1.43-.59-.52 0-1.04.2-1.43.59L10.3 9.45l-7.72 7.72c-.78.78-.78 2.05 0 2.83L4 21.41c.39.39.9.59 1.41.59.51 0 1.02-.2 1.41-.59l7.78-7.78 2.81-2.81c.8-.78.8-2.07 0-2.86zM5.41 20L4 18.59l7.72-7.72 1.47 1.35L5.41 20z\"/>\n",
              "  </svg>\n",
              "      </button>\n",
              "      \n",
              "  <style>\n",
              "    .colab-df-container {\n",
              "      display:flex;\n",
              "      flex-wrap:wrap;\n",
              "      gap: 12px;\n",
              "    }\n",
              "\n",
              "    .colab-df-convert {\n",
              "      background-color: #E8F0FE;\n",
              "      border: none;\n",
              "      border-radius: 50%;\n",
              "      cursor: pointer;\n",
              "      display: none;\n",
              "      fill: #1967D2;\n",
              "      height: 32px;\n",
              "      padding: 0 0 0 0;\n",
              "      width: 32px;\n",
              "    }\n",
              "\n",
              "    .colab-df-convert:hover {\n",
              "      background-color: #E2EBFA;\n",
              "      box-shadow: 0px 1px 2px rgba(60, 64, 67, 0.3), 0px 1px 3px 1px rgba(60, 64, 67, 0.15);\n",
              "      fill: #174EA6;\n",
              "    }\n",
              "\n",
              "    [theme=dark] .colab-df-convert {\n",
              "      background-color: #3B4455;\n",
              "      fill: #D2E3FC;\n",
              "    }\n",
              "\n",
              "    [theme=dark] .colab-df-convert:hover {\n",
              "      background-color: #434B5C;\n",
              "      box-shadow: 0px 1px 3px 1px rgba(0, 0, 0, 0.15);\n",
              "      filter: drop-shadow(0px 1px 2px rgba(0, 0, 0, 0.3));\n",
              "      fill: #FFFFFF;\n",
              "    }\n",
              "  </style>\n",
              "\n",
              "      <script>\n",
              "        const buttonEl =\n",
              "          document.querySelector('#df-1b519153-e699-4591-9297-1d123a3cc4df button.colab-df-convert');\n",
              "        buttonEl.style.display =\n",
              "          google.colab.kernel.accessAllowed ? 'block' : 'none';\n",
              "\n",
              "        async function convertToInteractive(key) {\n",
              "          const element = document.querySelector('#df-1b519153-e699-4591-9297-1d123a3cc4df');\n",
              "          const dataTable =\n",
              "            await google.colab.kernel.invokeFunction('convertToInteractive',\n",
              "                                                     [key], {});\n",
              "          if (!dataTable) return;\n",
              "\n",
              "          const docLinkHtml = 'Like what you see? Visit the ' +\n",
              "            '<a target=\"_blank\" href=https://colab.research.google.com/notebooks/data_table.ipynb>data table notebook</a>'\n",
              "            + ' to learn more about interactive tables.';\n",
              "          element.innerHTML = '';\n",
              "          dataTable['output_type'] = 'display_data';\n",
              "          await google.colab.output.renderOutput(dataTable, element);\n",
              "          const docLink = document.createElement('div');\n",
              "          docLink.innerHTML = docLinkHtml;\n",
              "          element.appendChild(docLink);\n",
              "        }\n",
              "      </script>\n",
              "    </div>\n",
              "  </div>\n",
              "  "
            ]
          },
          "metadata": {},
          "execution_count": 4
        }
      ],
      "source": [
        "import pandas as pd\n",
        "df=pd.read_csv('/content/Dataset Instagram Sentiment.csv')\n",
        "df.head()"
      ]
    },
    {
      "cell_type": "code",
      "execution_count": 5,
      "metadata": {
        "colab": {
          "base_uri": "https://localhost:8080/"
        },
        "id": "pE9E4T7LlQHF",
        "outputId": "87bb6534-a4a0-43d5-f770-b09cf34ecb32"
      },
      "outputs": [
        {
          "output_type": "execute_result",
          "data": {
            "text/plain": [
              "Index(['Sentiment', 'teks'], dtype='object')"
            ]
          },
          "metadata": {},
          "execution_count": 5
        }
      ],
      "source": [
        "columns=df.columns\n",
        "columns"
      ]
    },
    {
      "cell_type": "code",
      "execution_count": 6,
      "metadata": {
        "id": "klcLUptkkVIu"
      },
      "outputs": [],
      "source": [
        "import re\n",
        "\n",
        "def text_preprocessing(text):\n",
        "  text = text.lower()                               # Mengubah teks menjadi lower case\n",
        "  text = re.sub(r'https?://\\S+|www\\.\\S+', '', text) # Menghapus URL\n",
        "  text = re.sub(r'[-+]?[0-9]+', '', text)           # Menghapus angka\n",
        "  text = re.sub(r'[^\\w\\s]','', text)                # Menghapus karakter tanda baca\n",
        "  text = text.strip()                               # Menghapus whitespaces\n",
        "  return text"
      ]
    },
    {
      "cell_type": "code",
      "execution_count": 7,
      "metadata": {
        "id": "VlanMaaZxdig"
      },
      "outputs": [],
      "source": [
        "# Buat fungsi untuk langkah stopword removal\n",
        "from nltk.tokenize import sent_tokenize, word_tokenize\n",
        "from nltk.corpus import stopwords\n",
        "\n",
        "stopwords_ind = stopwords.words('indonesian')\n",
        "\n",
        "more_stopword = ['tolong', 'nang', 'yg', 'film', 'filmnya', 'indonesia', 'bapak', 'tonton',\n",
        "                'ya', 'dgn', 'kali', 'kisah', 'nntn', 'si', 'harga', 'salah', 'aktor', 'ah', 'furiousmenurutku',\n",
        "                'cerita', 'actingnya', 'beexkuanlin', 'arthur', 'yah', 'radityadika', 'ale', 'bioskop', 'gambar', 'serakah',\n",
        "                'kartini', 'nonton', 'baca', 'hansdavidian', 'bangsa', 'this', 'themummy', 'gila', 'kawin',\n",
        "                'danur', 'meantweets', 'biografi', 'orang', 'hanungbramantyo', 'ttg', 'bayar', 'filmziarah', 'banget',\n",
        "                'guys', 'cinta', 'bikin', 'ngomong', 'bilang', 'filmziarah', 'alien', 'gwa', 'bapak', 'critical', 'eleven', 'criticaleleven',\n",
        "                'danur', 'danurmovie', 'horor', 'filmkartini', 'mbah', 'lihat', 'habis', 'bang', 'dihabisken', 'datar', 'potong', 'rilis',\n",
        "                'beda', 'duh', 'parah', 'ziarah', 'hasil', 'cenanyangflm', 'main', 'nya', 'sejarah', 'perang'\n",
        "                'dapet']                    # Tambahkan kata dalam daftar stopword\n",
        "stopwords_ind = stopwords_ind + more_stopword\n",
        "\n",
        "def remove_stop_words(text):\n",
        "  clean_words = []\n",
        "  text = text.split()\n",
        "  for word in text:\n",
        "      if word not in stopwords_ind:\n",
        "          clean_words.append(word)\n",
        "  return \" \".join(clean_words)"
      ]
    },
    {
      "cell_type": "code",
      "execution_count": 8,
      "metadata": {
        "id": "HtRZGNfFxxOt"
      },
      "outputs": [],
      "source": [
        "from Sastrawi.Stemmer.StemmerFactory import StemmerFactory\n",
        "\n",
        "factory = StemmerFactory()\n",
        "stemmer = factory.create_stemmer()\n",
        "\n",
        "# Buat fungsi untuk langkah stemming bahasa Indonesia\n",
        "def stemming(text):\n",
        "  text = stemmer.stem(text)\n",
        "  return text"
      ]
    },
    {
      "cell_type": "code",
      "execution_count": 9,
      "metadata": {
        "id": "J5-5yXHi2qmo"
      },
      "outputs": [],
      "source": [
        "def tokenize(column):\n",
        "    tokens = nltk.word_tokenize(column)\n",
        "    return [w for w in tokens if w.isalpha()]    \n",
        "    df['tokenized'] = df.apply(lambda x: tokenize(x['teks']), axis=1)\n",
        "    df[['tokenized']].head()"
      ]
    },
    {
      "cell_type": "code",
      "execution_count": 10,
      "metadata": {
        "colab": {
          "base_uri": "https://localhost:8080/"
        },
        "id": "0ILXzl0Fwm5B",
        "outputId": "159c674a-ca51-44bd-da61-3f71709c70d6"
      },
      "outputs": [
        {
          "output_type": "stream",
          "name": "stdout",
          "text": [
            "Raw data\t\t:  Pantesan di tinggalin laki, ya lakinya juga mikir kali kalau perempuannya kayagni. Ngurus diri aja dia gak becus gimana ngurus anak, mending anak sama bapake nya aja bener didiknya\n",
            "Case folding\t\t:  pantesan di tinggalin laki ya lakinya juga mikir kali kalau perempuannya kayagni ngurus diri aja dia gak becus gimana ngurus anak mending anak sama bapake nya aja bener didiknya\n",
            "Stopword removal\t:  pantesan tinggalin laki lakinya mikir perempuannya kayagni ngurus aja gak becus gimana ngurus anak mending anak bapake aja bener didiknya\n",
            "Stemming\t\t:  pantesan tinggalin laki laki mikir perempuan kayagni ngurus aja gak becus gimana ngurus anak mending anak bapake aja bener didik\n",
            "Tokenizer\t\t:  ['pantesan', 'tinggalin', 'laki', 'laki', 'mikir', 'perempuan', 'kayagni', 'ngurus', 'aja', 'gak', 'becus', 'gimana', 'ngurus', 'anak', 'mending', 'anak', 'bapake', 'aja', 'bener', 'didik']\n"
          ]
        }
      ],
      "source": [
        "raw_sample = df['teks'].iloc[5]\n",
        "case_folding = text_preprocessing(raw_sample)\n",
        "stopword_removal = remove_stop_words(case_folding)\n",
        "text_stemming = stemming(stopword_removal)\n",
        "token = tokenize(text_stemming)\n",
        "\n",
        "print('Raw data\\t\\t: ', raw_sample)\n",
        "print('Case folding\\t\\t: ', case_folding)\n",
        "print('Stopword removal\\t: ', stopword_removal)\n",
        "print('Stemming\\t\\t: ', text_stemming)\n",
        "print('Tokenizer\\t\\t: ', token)"
      ]
    },
    {
      "cell_type": "code",
      "execution_count": 11,
      "metadata": {
        "id": "yhWvzEfL2I_O"
      },
      "outputs": [],
      "source": [
        "def tokenize(column):\n",
        "    tokens = nltk.word_tokenize(column)\n",
        "    return [w for w in tokens if w.isalpha()]    "
      ]
    },
    {
      "cell_type": "code",
      "execution_count": 12,
      "metadata": {
        "colab": {
          "base_uri": "https://localhost:8080/",
          "height": 206
        },
        "id": "qldJQdJ22Z3P",
        "outputId": "174e4fce-793f-4db1-9d1e-88f54e48aaab"
      },
      "outputs": [
        {
          "output_type": "execute_result",
          "data": {
            "text/plain": [
              "                                           tokenized\n",
              "0  [USERNAME, TOLOL, Gak, ada, hubungan, nya, keg...\n",
              "1  [Geblek, lo, tata, cowo, bgt, balikan, hadeww,...\n",
              "2  [Kmrn, skr, lengket, lg, duhhh, kok, labil, bg...\n",
              "3  [Intinya, kalau, kesel, dengan, ATT, nya, gaus...\n",
              "4  [hadewwwww, permpuan, itu, lg, sakit, jiwa, kn..."
            ],
            "text/html": [
              "\n",
              "  <div id=\"df-ea8b07c8-8207-4cd7-8496-f1de88f562a8\">\n",
              "    <div class=\"colab-df-container\">\n",
              "      <div>\n",
              "<style scoped>\n",
              "    .dataframe tbody tr th:only-of-type {\n",
              "        vertical-align: middle;\n",
              "    }\n",
              "\n",
              "    .dataframe tbody tr th {\n",
              "        vertical-align: top;\n",
              "    }\n",
              "\n",
              "    .dataframe thead th {\n",
              "        text-align: right;\n",
              "    }\n",
              "</style>\n",
              "<table border=\"1\" class=\"dataframe\">\n",
              "  <thead>\n",
              "    <tr style=\"text-align: right;\">\n",
              "      <th></th>\n",
              "      <th>tokenized</th>\n",
              "    </tr>\n",
              "  </thead>\n",
              "  <tbody>\n",
              "    <tr>\n",
              "      <th>0</th>\n",
              "      <td>[USERNAME, TOLOL, Gak, ada, hubungan, nya, keg...</td>\n",
              "    </tr>\n",
              "    <tr>\n",
              "      <th>1</th>\n",
              "      <td>[Geblek, lo, tata, cowo, bgt, balikan, hadeww,...</td>\n",
              "    </tr>\n",
              "    <tr>\n",
              "      <th>2</th>\n",
              "      <td>[Kmrn, skr, lengket, lg, duhhh, kok, labil, bg...</td>\n",
              "    </tr>\n",
              "    <tr>\n",
              "      <th>3</th>\n",
              "      <td>[Intinya, kalau, kesel, dengan, ATT, nya, gaus...</td>\n",
              "    </tr>\n",
              "    <tr>\n",
              "      <th>4</th>\n",
              "      <td>[hadewwwww, permpuan, itu, lg, sakit, jiwa, kn...</td>\n",
              "    </tr>\n",
              "  </tbody>\n",
              "</table>\n",
              "</div>\n",
              "      <button class=\"colab-df-convert\" onclick=\"convertToInteractive('df-ea8b07c8-8207-4cd7-8496-f1de88f562a8')\"\n",
              "              title=\"Convert this dataframe to an interactive table.\"\n",
              "              style=\"display:none;\">\n",
              "        \n",
              "  <svg xmlns=\"http://www.w3.org/2000/svg\" height=\"24px\"viewBox=\"0 0 24 24\"\n",
              "       width=\"24px\">\n",
              "    <path d=\"M0 0h24v24H0V0z\" fill=\"none\"/>\n",
              "    <path d=\"M18.56 5.44l.94 2.06.94-2.06 2.06-.94-2.06-.94-.94-2.06-.94 2.06-2.06.94zm-11 1L8.5 8.5l.94-2.06 2.06-.94-2.06-.94L8.5 2.5l-.94 2.06-2.06.94zm10 10l.94 2.06.94-2.06 2.06-.94-2.06-.94-.94-2.06-.94 2.06-2.06.94z\"/><path d=\"M17.41 7.96l-1.37-1.37c-.4-.4-.92-.59-1.43-.59-.52 0-1.04.2-1.43.59L10.3 9.45l-7.72 7.72c-.78.78-.78 2.05 0 2.83L4 21.41c.39.39.9.59 1.41.59.51 0 1.02-.2 1.41-.59l7.78-7.78 2.81-2.81c.8-.78.8-2.07 0-2.86zM5.41 20L4 18.59l7.72-7.72 1.47 1.35L5.41 20z\"/>\n",
              "  </svg>\n",
              "      </button>\n",
              "      \n",
              "  <style>\n",
              "    .colab-df-container {\n",
              "      display:flex;\n",
              "      flex-wrap:wrap;\n",
              "      gap: 12px;\n",
              "    }\n",
              "\n",
              "    .colab-df-convert {\n",
              "      background-color: #E8F0FE;\n",
              "      border: none;\n",
              "      border-radius: 50%;\n",
              "      cursor: pointer;\n",
              "      display: none;\n",
              "      fill: #1967D2;\n",
              "      height: 32px;\n",
              "      padding: 0 0 0 0;\n",
              "      width: 32px;\n",
              "    }\n",
              "\n",
              "    .colab-df-convert:hover {\n",
              "      background-color: #E2EBFA;\n",
              "      box-shadow: 0px 1px 2px rgba(60, 64, 67, 0.3), 0px 1px 3px 1px rgba(60, 64, 67, 0.15);\n",
              "      fill: #174EA6;\n",
              "    }\n",
              "\n",
              "    [theme=dark] .colab-df-convert {\n",
              "      background-color: #3B4455;\n",
              "      fill: #D2E3FC;\n",
              "    }\n",
              "\n",
              "    [theme=dark] .colab-df-convert:hover {\n",
              "      background-color: #434B5C;\n",
              "      box-shadow: 0px 1px 3px 1px rgba(0, 0, 0, 0.15);\n",
              "      filter: drop-shadow(0px 1px 2px rgba(0, 0, 0, 0.3));\n",
              "      fill: #FFFFFF;\n",
              "    }\n",
              "  </style>\n",
              "\n",
              "      <script>\n",
              "        const buttonEl =\n",
              "          document.querySelector('#df-ea8b07c8-8207-4cd7-8496-f1de88f562a8 button.colab-df-convert');\n",
              "        buttonEl.style.display =\n",
              "          google.colab.kernel.accessAllowed ? 'block' : 'none';\n",
              "\n",
              "        async function convertToInteractive(key) {\n",
              "          const element = document.querySelector('#df-ea8b07c8-8207-4cd7-8496-f1de88f562a8');\n",
              "          const dataTable =\n",
              "            await google.colab.kernel.invokeFunction('convertToInteractive',\n",
              "                                                     [key], {});\n",
              "          if (!dataTable) return;\n",
              "\n",
              "          const docLinkHtml = 'Like what you see? Visit the ' +\n",
              "            '<a target=\"_blank\" href=https://colab.research.google.com/notebooks/data_table.ipynb>data table notebook</a>'\n",
              "            + ' to learn more about interactive tables.';\n",
              "          element.innerHTML = '';\n",
              "          dataTable['output_type'] = 'display_data';\n",
              "          await google.colab.output.renderOutput(dataTable, element);\n",
              "          const docLink = document.createElement('div');\n",
              "          docLink.innerHTML = docLinkHtml;\n",
              "          element.appendChild(docLink);\n",
              "        }\n",
              "      </script>\n",
              "    </div>\n",
              "  </div>\n",
              "  "
            ]
          },
          "metadata": {},
          "execution_count": 12
        }
      ],
      "source": [
        "df['tokenized'] = df.apply(lambda x: tokenize(x['teks']), axis=1)\n",
        "df[['tokenized']].head()\n"
      ]
    },
    {
      "cell_type": "code",
      "execution_count": 13,
      "metadata": {
        "id": "CgQt6ageyGSL"
      },
      "outputs": [],
      "source": [
        "def text_preprocessing_process(text):\n",
        "  text = text_preprocessing(text)\n",
        "  text = remove_stop_words(text)\n",
        "  text = stemming(text)\n",
        "  text = tokenize(text)\n",
        "  return text"
      ]
    },
    {
      "cell_type": "code",
      "execution_count": 14,
      "metadata": {
        "colab": {
          "base_uri": "https://localhost:8080/"
        },
        "id": "naNR6nxFkekF",
        "outputId": "0561e534-7f91-48db-aa9c-3035d92d98b1"
      },
      "outputs": [
        {
          "output_type": "stream",
          "name": "stdout",
          "text": [
            "CPU times: user 3min 27s, sys: 753 ms, total: 3min 28s\n",
            "Wall time: 3min 33s\n"
          ]
        }
      ],
      "source": [
        "%time df['teks'] = df['teks'].apply(text_preprocessing_process)"
      ]
    },
    {
      "cell_type": "code",
      "execution_count": 15,
      "metadata": {
        "colab": {
          "base_uri": "https://localhost:8080/",
          "height": 424
        },
        "id": "FT3_SJpgm01s",
        "outputId": "58eef4b7-3208-4d4c-db77-a48154090295"
      },
      "outputs": [
        {
          "output_type": "execute_result",
          "data": {
            "text/plain": [
              "     Sentiment                                               teks  \\\n",
              "0            0  [username, tolol, gak, hubung, gugur, pake, hi...   \n",
              "1            0  [geblek, lo, tatacowo, bgt, bain, balikanhadew...   \n",
              "2            0  [kmrn, mewek, skr, lengket, lg, duhhh, labil, ...   \n",
              "3            0  [inti, kesel, att, gausah, anak, kasi, kembang...   \n",
              "4            0  [hadewwwww, permpuan, lgsakit, jiwaknp, jd, pe...   \n",
              "..         ...                                                ...   \n",
              "395          1  [bangga, suami, istri, sela, apa, profesi, kau...   \n",
              "396          1  [apaoun, kerja, halal, u, tuk, nafkah, keluarg...   \n",
              "397          1  [gojek, mayoritas, pegangguran, gak, kerja, tr...   \n",
              "398          1  [username, asli, cantik, ayu, loh, mbak, krn, ...   \n",
              "399          1  [username, suami, umur, mba, tua, alhamdulilla...   \n",
              "\n",
              "                                             tokenized  \n",
              "0    [USERNAME, TOLOL, Gak, ada, hubungan, nya, keg...  \n",
              "1    [Geblek, lo, tata, cowo, bgt, balikan, hadeww,...  \n",
              "2    [Kmrn, skr, lengket, lg, duhhh, kok, labil, bg...  \n",
              "3    [Intinya, kalau, kesel, dengan, ATT, nya, gaus...  \n",
              "4    [hadewwwww, permpuan, itu, lg, sakit, jiwa, kn...  \n",
              "..                                                 ...  \n",
              "395  [Bangga, sama, suami, yg, selalu, ingat, istri...  \n",
              "396  [Apaoun, pekerjaannya, yg, penting, halal, u, ...  \n",
              "397  [Gojek, itu, mayoritas, pegangguran, yang, lam...  \n",
              "398  [USERNAME, aslinya, cantik, dan, ayu, loh, mba...  \n",
              "399  [USERNAME, suami, saya, seumuran, sama, saya, ...  \n",
              "\n",
              "[400 rows x 3 columns]"
            ],
            "text/html": [
              "\n",
              "  <div id=\"df-b795af9e-50c7-41e3-81a7-68eb9fb7e2ec\">\n",
              "    <div class=\"colab-df-container\">\n",
              "      <div>\n",
              "<style scoped>\n",
              "    .dataframe tbody tr th:only-of-type {\n",
              "        vertical-align: middle;\n",
              "    }\n",
              "\n",
              "    .dataframe tbody tr th {\n",
              "        vertical-align: top;\n",
              "    }\n",
              "\n",
              "    .dataframe thead th {\n",
              "        text-align: right;\n",
              "    }\n",
              "</style>\n",
              "<table border=\"1\" class=\"dataframe\">\n",
              "  <thead>\n",
              "    <tr style=\"text-align: right;\">\n",
              "      <th></th>\n",
              "      <th>Sentiment</th>\n",
              "      <th>teks</th>\n",
              "      <th>tokenized</th>\n",
              "    </tr>\n",
              "  </thead>\n",
              "  <tbody>\n",
              "    <tr>\n",
              "      <th>0</th>\n",
              "      <td>0</td>\n",
              "      <td>[username, tolol, gak, hubung, gugur, pake, hi...</td>\n",
              "      <td>[USERNAME, TOLOL, Gak, ada, hubungan, nya, keg...</td>\n",
              "    </tr>\n",
              "    <tr>\n",
              "      <th>1</th>\n",
              "      <td>0</td>\n",
              "      <td>[geblek, lo, tatacowo, bgt, bain, balikanhadew...</td>\n",
              "      <td>[Geblek, lo, tata, cowo, bgt, balikan, hadeww,...</td>\n",
              "    </tr>\n",
              "    <tr>\n",
              "      <th>2</th>\n",
              "      <td>0</td>\n",
              "      <td>[kmrn, mewek, skr, lengket, lg, duhhh, labil, ...</td>\n",
              "      <td>[Kmrn, skr, lengket, lg, duhhh, kok, labil, bg...</td>\n",
              "    </tr>\n",
              "    <tr>\n",
              "      <th>3</th>\n",
              "      <td>0</td>\n",
              "      <td>[inti, kesel, att, gausah, anak, kasi, kembang...</td>\n",
              "      <td>[Intinya, kalau, kesel, dengan, ATT, nya, gaus...</td>\n",
              "    </tr>\n",
              "    <tr>\n",
              "      <th>4</th>\n",
              "      <td>0</td>\n",
              "      <td>[hadewwwww, permpuan, lgsakit, jiwaknp, jd, pe...</td>\n",
              "      <td>[hadewwwww, permpuan, itu, lg, sakit, jiwa, kn...</td>\n",
              "    </tr>\n",
              "    <tr>\n",
              "      <th>...</th>\n",
              "      <td>...</td>\n",
              "      <td>...</td>\n",
              "      <td>...</td>\n",
              "    </tr>\n",
              "    <tr>\n",
              "      <th>395</th>\n",
              "      <td>1</td>\n",
              "      <td>[bangga, suami, istri, sela, apa, profesi, kau...</td>\n",
              "      <td>[Bangga, sama, suami, yg, selalu, ingat, istri...</td>\n",
              "    </tr>\n",
              "    <tr>\n",
              "      <th>396</th>\n",
              "      <td>1</td>\n",
              "      <td>[apaoun, kerja, halal, u, tuk, nafkah, keluarg...</td>\n",
              "      <td>[Apaoun, pekerjaannya, yg, penting, halal, u, ...</td>\n",
              "    </tr>\n",
              "    <tr>\n",
              "      <th>397</th>\n",
              "      <td>1</td>\n",
              "      <td>[gojek, mayoritas, pegangguran, gak, kerja, tr...</td>\n",
              "      <td>[Gojek, itu, mayoritas, pegangguran, yang, lam...</td>\n",
              "    </tr>\n",
              "    <tr>\n",
              "      <th>398</th>\n",
              "      <td>1</td>\n",
              "      <td>[username, asli, cantik, ayu, loh, mbak, krn, ...</td>\n",
              "      <td>[USERNAME, aslinya, cantik, dan, ayu, loh, mba...</td>\n",
              "    </tr>\n",
              "    <tr>\n",
              "      <th>399</th>\n",
              "      <td>1</td>\n",
              "      <td>[username, suami, umur, mba, tua, alhamdulilla...</td>\n",
              "      <td>[USERNAME, suami, saya, seumuran, sama, saya, ...</td>\n",
              "    </tr>\n",
              "  </tbody>\n",
              "</table>\n",
              "<p>400 rows × 3 columns</p>\n",
              "</div>\n",
              "      <button class=\"colab-df-convert\" onclick=\"convertToInteractive('df-b795af9e-50c7-41e3-81a7-68eb9fb7e2ec')\"\n",
              "              title=\"Convert this dataframe to an interactive table.\"\n",
              "              style=\"display:none;\">\n",
              "        \n",
              "  <svg xmlns=\"http://www.w3.org/2000/svg\" height=\"24px\"viewBox=\"0 0 24 24\"\n",
              "       width=\"24px\">\n",
              "    <path d=\"M0 0h24v24H0V0z\" fill=\"none\"/>\n",
              "    <path d=\"M18.56 5.44l.94 2.06.94-2.06 2.06-.94-2.06-.94-.94-2.06-.94 2.06-2.06.94zm-11 1L8.5 8.5l.94-2.06 2.06-.94-2.06-.94L8.5 2.5l-.94 2.06-2.06.94zm10 10l.94 2.06.94-2.06 2.06-.94-2.06-.94-.94-2.06-.94 2.06-2.06.94z\"/><path d=\"M17.41 7.96l-1.37-1.37c-.4-.4-.92-.59-1.43-.59-.52 0-1.04.2-1.43.59L10.3 9.45l-7.72 7.72c-.78.78-.78 2.05 0 2.83L4 21.41c.39.39.9.59 1.41.59.51 0 1.02-.2 1.41-.59l7.78-7.78 2.81-2.81c.8-.78.8-2.07 0-2.86zM5.41 20L4 18.59l7.72-7.72 1.47 1.35L5.41 20z\"/>\n",
              "  </svg>\n",
              "      </button>\n",
              "      \n",
              "  <style>\n",
              "    .colab-df-container {\n",
              "      display:flex;\n",
              "      flex-wrap:wrap;\n",
              "      gap: 12px;\n",
              "    }\n",
              "\n",
              "    .colab-df-convert {\n",
              "      background-color: #E8F0FE;\n",
              "      border: none;\n",
              "      border-radius: 50%;\n",
              "      cursor: pointer;\n",
              "      display: none;\n",
              "      fill: #1967D2;\n",
              "      height: 32px;\n",
              "      padding: 0 0 0 0;\n",
              "      width: 32px;\n",
              "    }\n",
              "\n",
              "    .colab-df-convert:hover {\n",
              "      background-color: #E2EBFA;\n",
              "      box-shadow: 0px 1px 2px rgba(60, 64, 67, 0.3), 0px 1px 3px 1px rgba(60, 64, 67, 0.15);\n",
              "      fill: #174EA6;\n",
              "    }\n",
              "\n",
              "    [theme=dark] .colab-df-convert {\n",
              "      background-color: #3B4455;\n",
              "      fill: #D2E3FC;\n",
              "    }\n",
              "\n",
              "    [theme=dark] .colab-df-convert:hover {\n",
              "      background-color: #434B5C;\n",
              "      box-shadow: 0px 1px 3px 1px rgba(0, 0, 0, 0.15);\n",
              "      filter: drop-shadow(0px 1px 2px rgba(0, 0, 0, 0.3));\n",
              "      fill: #FFFFFF;\n",
              "    }\n",
              "  </style>\n",
              "\n",
              "      <script>\n",
              "        const buttonEl =\n",
              "          document.querySelector('#df-b795af9e-50c7-41e3-81a7-68eb9fb7e2ec button.colab-df-convert');\n",
              "        buttonEl.style.display =\n",
              "          google.colab.kernel.accessAllowed ? 'block' : 'none';\n",
              "\n",
              "        async function convertToInteractive(key) {\n",
              "          const element = document.querySelector('#df-b795af9e-50c7-41e3-81a7-68eb9fb7e2ec');\n",
              "          const dataTable =\n",
              "            await google.colab.kernel.invokeFunction('convertToInteractive',\n",
              "                                                     [key], {});\n",
              "          if (!dataTable) return;\n",
              "\n",
              "          const docLinkHtml = 'Like what you see? Visit the ' +\n",
              "            '<a target=\"_blank\" href=https://colab.research.google.com/notebooks/data_table.ipynb>data table notebook</a>'\n",
              "            + ' to learn more about interactive tables.';\n",
              "          element.innerHTML = '';\n",
              "          dataTable['output_type'] = 'display_data';\n",
              "          await google.colab.output.renderOutput(dataTable, element);\n",
              "          const docLink = document.createElement('div');\n",
              "          docLink.innerHTML = docLinkHtml;\n",
              "          element.appendChild(docLink);\n",
              "        }\n",
              "      </script>\n",
              "    </div>\n",
              "  </div>\n",
              "  "
            ]
          },
          "metadata": {},
          "execution_count": 15
        }
      ],
      "source": [
        "df"
      ]
    },
    {
      "cell_type": "code",
      "execution_count": 16,
      "metadata": {
        "id": "wzjdxNxAlRfD"
      },
      "outputs": [],
      "source": [
        "y=df['Sentiment']"
      ]
    },
    {
      "cell_type": "code",
      "execution_count": 17,
      "metadata": {
        "colab": {
          "base_uri": "https://localhost:8080/"
        },
        "id": "6SLXgb05mK1Z",
        "outputId": "db8a2bfe-8432-4f47-dea6-12b9f53410b0"
      },
      "outputs": [
        {
          "output_type": "stream",
          "name": "stdout",
          "text": [
            "DF Train Shape:  (268,)\n",
            "DF Test Shape:  (132,)\n",
            "Y Train Shape:  (268,)\n",
            "Y Test Shape:  (132,)\n"
          ]
        }
      ],
      "source": [
        "from sklearn.model_selection import train_test_split\n",
        "df_train,df_test,y_train,y_test=train_test_split(df['teks'],y,test_size=0.33,random_state=42)\n",
        "print('DF Train Shape: ',df_train.shape)\n",
        "print('DF Test Shape: ',df_test.shape)\n",
        "print('Y Train Shape: ',y_train.shape)\n",
        "print('Y Test Shape: ',y_test.shape)"
      ]
    },
    {
      "cell_type": "code",
      "execution_count": 18,
      "metadata": {
        "id": "_MGHrlYo8j2o"
      },
      "outputs": [],
      "source": [
        "from tensorflow.keras.preprocessing.text import Tokenizer\n",
        "max_words=10000\n",
        "tokenizer=Tokenizer(max_words)\n",
        "tokenizer.fit_on_texts(df_train)\n",
        "sequence_train=tokenizer.texts_to_sequences(df_train)\n",
        "sequence_test=tokenizer.texts_to_sequences(df_test)\n"
      ]
    },
    {
      "cell_type": "code",
      "execution_count": 19,
      "metadata": {
        "colab": {
          "base_uri": "https://localhost:8080/"
        },
        "id": "1hYPHvBP9DiQ",
        "outputId": "25fefd97-d258-4ac7-f7fa-6afb522563ac"
      },
      "outputs": [
        {
          "output_type": "stream",
          "name": "stdout",
          "text": [
            "dataset has 2038 number of independent tokens\n"
          ]
        }
      ],
      "source": [
        "word2vec=tokenizer.word_index\n",
        "V=len(word2vec)\n",
        "print('dataset has %s number of independent tokens' %V)"
      ]
    },
    {
      "cell_type": "code",
      "execution_count": 20,
      "metadata": {
        "colab": {
          "base_uri": "https://localhost:8080/"
        },
        "id": "qiVQFCBbmtba",
        "outputId": "7708c4a1-7194-4e1a-b707-23e1698f088d"
      },
      "outputs": [
        {
          "output_type": "execute_result",
          "data": {
            "text/plain": [
              "(268, 105)"
            ]
          },
          "metadata": {},
          "execution_count": 20
        }
      ],
      "source": [
        "from tensorflow.keras.preprocessing.sequence import pad_sequences\n",
        "data_train=pad_sequences(sequence_train)\n",
        "data_train.shape"
      ]
    },
    {
      "cell_type": "code",
      "execution_count": 21,
      "metadata": {
        "colab": {
          "base_uri": "https://localhost:8080/"
        },
        "id": "h5dh9L66mwDz",
        "outputId": "959b80a0-cb58-4969-86a0-fcfa8cefbd3a"
      },
      "outputs": [
        {
          "output_type": "execute_result",
          "data": {
            "text/plain": [
              "(132, 105)"
            ]
          },
          "metadata": {},
          "execution_count": 21
        }
      ],
      "source": [
        "T=data_train.shape[1]\n",
        "data_test=pad_sequences(sequence_test,maxlen=T)\n",
        "data_test.shape"
      ]
    },
    {
      "cell_type": "code",
      "execution_count": 22,
      "metadata": {
        "id": "Rq34EzMhmyHJ"
      },
      "outputs": [],
      "source": [
        "from tensorflow.keras.layers import Input,Conv1D,MaxPooling1D,Dense,GlobalMaxPooling1D,Embedding\n",
        "from tensorflow.keras.models import Model"
      ]
    },
    {
      "cell_type": "code",
      "execution_count": 23,
      "metadata": {
        "colab": {
          "base_uri": "https://localhost:8080/"
        },
        "id": "as-L1_nxmzg5",
        "outputId": "1153a206-caea-4ab4-b309-29e26bf4a7c3"
      },
      "outputs": [
        {
          "output_type": "stream",
          "name": "stdout",
          "text": [
            "Model: \"model\"\n",
            "_________________________________________________________________\n",
            " Layer (type)                Output Shape              Param #   \n",
            "=================================================================\n",
            " input_1 (InputLayer)        [(None, 105)]             0         \n",
            "                                                                 \n",
            " embedding (Embedding)       (None, 105, 20)           40780     \n",
            "                                                                 \n",
            " conv1d (Conv1D)             (None, 103, 32)           1952      \n",
            "                                                                 \n",
            " max_pooling1d (MaxPooling1D  (None, 34, 32)           0         \n",
            " )                                                               \n",
            "                                                                 \n",
            " conv1d_1 (Conv1D)           (None, 32, 64)            6208      \n",
            "                                                                 \n",
            " max_pooling1d_1 (MaxPooling  (None, 10, 64)           0         \n",
            " 1D)                                                             \n",
            "                                                                 \n",
            " conv1d_2 (Conv1D)           (None, 8, 128)            24704     \n",
            "                                                                 \n",
            " global_max_pooling1d (Globa  (None, 128)              0         \n",
            " lMaxPooling1D)                                                  \n",
            "                                                                 \n",
            " dense (Dense)               (None, 2)                 258       \n",
            "                                                                 \n",
            "=================================================================\n",
            "Total params: 73,902\n",
            "Trainable params: 73,902\n",
            "Non-trainable params: 0\n",
            "_________________________________________________________________\n"
          ]
        }
      ],
      "source": [
        "D=20\n",
        "i=Input((T,))\n",
        "x=Embedding(V+1,D)(i)\n",
        "x=Conv1D(32,3,activation='relu')(x)\n",
        "x=MaxPooling1D(3)(x)\n",
        "x=Conv1D(64,3,activation='relu')(x)\n",
        "x=MaxPooling1D(3)(x)\n",
        "x=Conv1D(128,3,activation='relu')(x)\n",
        "x=GlobalMaxPooling1D()(x)\n",
        "x=Dense(2,activation='softmax')(x)\n",
        "model=Model(i,x)\n",
        "model.summary()\n",
        "\n"
      ]
    },
    {
      "cell_type": "code",
      "execution_count": 24,
      "metadata": {
        "colab": {
          "base_uri": "https://localhost:8080/"
        },
        "id": "MAQklO_2m4gF",
        "outputId": "00d1f613-c6b1-423b-bb83-a9ec2c297f9e"
      },
      "outputs": [
        {
          "output_type": "stream",
          "name": "stdout",
          "text": [
            "Epoch 1/5\n",
            "3/3 [==============================] - 8s 211ms/step - loss: 0.6937 - accuracy: 0.4664 - val_loss: 0.6929 - val_accuracy: 0.4848\n",
            "Epoch 2/5\n",
            "3/3 [==============================] - 0s 19ms/step - loss: 0.6903 - accuracy: 0.6269 - val_loss: 0.6914 - val_accuracy: 0.6136\n",
            "Epoch 3/5\n",
            "3/3 [==============================] - 0s 15ms/step - loss: 0.6879 - accuracy: 0.6269 - val_loss: 0.6900 - val_accuracy: 0.6136\n",
            "Epoch 4/5\n",
            "3/3 [==============================] - 0s 17ms/step - loss: 0.6841 - accuracy: 0.6455 - val_loss: 0.6881 - val_accuracy: 0.6364\n",
            "Epoch 5/5\n",
            "3/3 [==============================] - 0s 17ms/step - loss: 0.6789 - accuracy: 0.6567 - val_loss: 0.6855 - val_accuracy: 0.6364\n"
          ]
        }
      ],
      "source": [
        "model.compile(loss='sparse_categorical_crossentropy',optimizer='adam',metrics=['accuracy'])\n",
        "cnn_senti=model.fit(data_train,y_train,validation_data=(data_test,y_test),epochs=5,batch_size=100)"
      ]
    },
    {
      "cell_type": "code",
      "execution_count": 25,
      "metadata": {
        "colab": {
          "base_uri": "https://localhost:8080/"
        },
        "id": "WRlk1nxjeGGa",
        "outputId": "c2d7abe0-edd7-4f87-ae94-399d418b090d"
      },
      "outputs": [
        {
          "output_type": "stream",
          "name": "stdout",
          "text": [
            "5/5 [==============================] - 0s 15ms/step\n"
          ]
        },
        {
          "output_type": "execute_result",
          "data": {
            "text/plain": [
              "array([[0.48295972, 0.5170403 ],\n",
              "       [0.48295972, 0.5170403 ],\n",
              "       [0.5160938 , 0.4839062 ],\n",
              "       [0.48295972, 0.5170403 ],\n",
              "       [0.48295972, 0.5170403 ],\n",
              "       [0.54074454, 0.45925546],\n",
              "       [0.4942224 , 0.5057776 ],\n",
              "       [0.52669257, 0.4733075 ],\n",
              "       [0.50360775, 0.49639225],\n",
              "       [0.48531887, 0.5146811 ],\n",
              "       [0.48295972, 0.5170403 ],\n",
              "       [0.48702312, 0.51297694],\n",
              "       [0.52372503, 0.4762749 ],\n",
              "       [0.4931862 , 0.5068138 ],\n",
              "       [0.501868  , 0.498132  ],\n",
              "       [0.48871046, 0.51128954],\n",
              "       [0.49336982, 0.5066302 ],\n",
              "       [0.48586702, 0.514133  ],\n",
              "       [0.48413464, 0.5158654 ],\n",
              "       [0.48295972, 0.5170403 ],\n",
              "       [0.48295972, 0.5170403 ],\n",
              "       [0.5299328 , 0.4700672 ],\n",
              "       [0.48295972, 0.5170403 ],\n",
              "       [0.48295972, 0.5170403 ],\n",
              "       [0.5024071 , 0.49759293],\n",
              "       [0.48295972, 0.5170403 ],\n",
              "       [0.5165778 , 0.48342222],\n",
              "       [0.4854735 , 0.51452655],\n",
              "       [0.48295972, 0.5170403 ],\n",
              "       [0.48295972, 0.5170403 ],\n",
              "       [0.48628378, 0.5137162 ],\n",
              "       [0.48295972, 0.5170403 ],\n",
              "       [0.48295972, 0.5170403 ],\n",
              "       [0.525091  , 0.47490904],\n",
              "       [0.48295972, 0.5170403 ],\n",
              "       [0.5238485 , 0.47615147],\n",
              "       [0.48295972, 0.5170403 ],\n",
              "       [0.48295972, 0.5170403 ],\n",
              "       [0.484253  , 0.515747  ],\n",
              "       [0.48896557, 0.5110344 ],\n",
              "       [0.48295972, 0.5170403 ],\n",
              "       [0.5101222 , 0.48987785],\n",
              "       [0.4926124 , 0.50738764],\n",
              "       [0.48295972, 0.5170403 ],\n",
              "       [0.48295972, 0.5170403 ],\n",
              "       [0.48295972, 0.5170403 ],\n",
              "       [0.5202896 , 0.4797104 ],\n",
              "       [0.50712514, 0.49287486],\n",
              "       [0.5102416 , 0.4897584 ],\n",
              "       [0.5033751 , 0.49662492],\n",
              "       [0.5015894 , 0.49841058],\n",
              "       [0.48295972, 0.5170403 ],\n",
              "       [0.48295972, 0.5170403 ],\n",
              "       [0.48295972, 0.5170403 ],\n",
              "       [0.48457015, 0.51542985],\n",
              "       [0.48295972, 0.5170403 ],\n",
              "       [0.48295972, 0.5170403 ],\n",
              "       [0.49588227, 0.5041177 ],\n",
              "       [0.49112523, 0.5088748 ],\n",
              "       [0.5189033 , 0.48109668],\n",
              "       [0.48477846, 0.51522154],\n",
              "       [0.49540976, 0.5045903 ],\n",
              "       [0.48295972, 0.5170403 ],\n",
              "       [0.48295972, 0.5170403 ],\n",
              "       [0.48295972, 0.5170403 ],\n",
              "       [0.48295972, 0.5170403 ],\n",
              "       [0.48295972, 0.5170403 ],\n",
              "       [0.48295972, 0.5170403 ],\n",
              "       [0.489612  , 0.510388  ],\n",
              "       [0.49134818, 0.5086518 ],\n",
              "       [0.48295972, 0.5170403 ],\n",
              "       [0.5010292 , 0.4989708 ],\n",
              "       [0.51137334, 0.48862666],\n",
              "       [0.48295972, 0.5170403 ],\n",
              "       [0.4987815 , 0.50121856],\n",
              "       [0.48295972, 0.5170403 ],\n",
              "       [0.4878535 , 0.5121465 ],\n",
              "       [0.50196636, 0.4980336 ],\n",
              "       [0.48295972, 0.5170403 ],\n",
              "       [0.48295972, 0.5170403 ],\n",
              "       [0.5146004 , 0.48539957],\n",
              "       [0.5063789 , 0.49362114],\n",
              "       [0.5323509 , 0.46764904],\n",
              "       [0.51260173, 0.48739827],\n",
              "       [0.48528436, 0.5147156 ],\n",
              "       [0.5100592 , 0.48994076],\n",
              "       [0.48723534, 0.5127647 ],\n",
              "       [0.49745202, 0.502548  ],\n",
              "       [0.5022872 , 0.4977128 ],\n",
              "       [0.48523885, 0.51476115],\n",
              "       [0.49899212, 0.50100785],\n",
              "       [0.48295972, 0.5170403 ],\n",
              "       [0.5041199 , 0.4958801 ],\n",
              "       [0.48295972, 0.5170403 ],\n",
              "       [0.48295972, 0.5170403 ],\n",
              "       [0.48295972, 0.5170403 ],\n",
              "       [0.48295972, 0.5170403 ],\n",
              "       [0.48295972, 0.5170403 ],\n",
              "       [0.48295972, 0.5170403 ],\n",
              "       [0.51167893, 0.48832107],\n",
              "       [0.49406728, 0.50593275],\n",
              "       [0.48295972, 0.5170403 ],\n",
              "       [0.48295972, 0.5170403 ],\n",
              "       [0.49826908, 0.5017309 ],\n",
              "       [0.48295972, 0.5170403 ],\n",
              "       [0.51497704, 0.48502293],\n",
              "       [0.48295972, 0.5170403 ],\n",
              "       [0.48295972, 0.5170403 ],\n",
              "       [0.48295972, 0.5170403 ],\n",
              "       [0.50337094, 0.49662906],\n",
              "       [0.48895866, 0.51104134],\n",
              "       [0.50515276, 0.4948472 ],\n",
              "       [0.48386747, 0.51613253],\n",
              "       [0.48295972, 0.5170403 ],\n",
              "       [0.49235812, 0.50764185],\n",
              "       [0.48295972, 0.5170403 ],\n",
              "       [0.48295972, 0.5170403 ],\n",
              "       [0.48295972, 0.5170403 ],\n",
              "       [0.49224338, 0.5077566 ],\n",
              "       [0.48295972, 0.5170403 ],\n",
              "       [0.48410308, 0.5158969 ],\n",
              "       [0.5005242 , 0.4994758 ],\n",
              "       [0.5175612 , 0.48243877],\n",
              "       [0.48398498, 0.51601505],\n",
              "       [0.48624885, 0.51375115],\n",
              "       [0.49964806, 0.5003519 ],\n",
              "       [0.5023384 , 0.4976616 ],\n",
              "       [0.48295972, 0.5170403 ],\n",
              "       [0.5056236 , 0.49437636],\n",
              "       [0.50113547, 0.49886456],\n",
              "       [0.4849577 , 0.5150423 ],\n",
              "       [0.48295972, 0.5170403 ]], dtype=float32)"
            ]
          },
          "metadata": {},
          "execution_count": 25
        }
      ],
      "source": [
        "y_pred=model.predict(data_test)\n",
        "y_pred"
      ]
    },
    {
      "cell_type": "code",
      "execution_count": 26,
      "metadata": {
        "colab": {
          "base_uri": "https://localhost:8080/"
        },
        "id": "Qz9q_cZOovRU",
        "outputId": "213a524c-a21e-4ccc-ea74-e41e9a9c617a"
      },
      "outputs": [
        {
          "output_type": "stream",
          "name": "stdout",
          "text": [
            "pemerintah yang buruk di kacau\n",
            "30\n",
            "(30, 105)\n",
            "1/1 [==============================] - 0s 70ms/step\n"
          ]
        },
        {
          "output_type": "execute_result",
          "data": {
            "text/plain": [
              "array([[0.48295972, 0.5170403 ],\n",
              "       [0.48295972, 0.5170403 ],\n",
              "       [0.48295972, 0.5170403 ],\n",
              "       [0.48295972, 0.5170403 ],\n",
              "       [0.48295972, 0.5170403 ],\n",
              "       [0.48295972, 0.5170403 ],\n",
              "       [0.48295972, 0.5170403 ],\n",
              "       [0.48295972, 0.5170403 ],\n",
              "       [0.48295972, 0.5170403 ],\n",
              "       [0.48295972, 0.5170403 ],\n",
              "       [0.48295972, 0.5170403 ],\n",
              "       [0.48295972, 0.5170403 ],\n",
              "       [0.48295972, 0.5170403 ],\n",
              "       [0.48295972, 0.5170403 ],\n",
              "       [0.48295972, 0.5170403 ],\n",
              "       [0.48295972, 0.5170403 ],\n",
              "       [0.48295972, 0.5170403 ],\n",
              "       [0.48295972, 0.5170403 ],\n",
              "       [0.48295972, 0.5170403 ],\n",
              "       [0.48295972, 0.5170403 ],\n",
              "       [0.48295972, 0.5170403 ],\n",
              "       [0.48295972, 0.5170403 ],\n",
              "       [0.48295972, 0.5170403 ],\n",
              "       [0.48295972, 0.5170403 ],\n",
              "       [0.48295972, 0.5170403 ],\n",
              "       [0.48295972, 0.5170403 ],\n",
              "       [0.48295972, 0.5170403 ],\n",
              "       [0.48295972, 0.5170403 ],\n",
              "       [0.48295972, 0.5170403 ],\n",
              "       [0.48295972, 0.5170403 ]], dtype=float32)"
            ]
          },
          "metadata": {},
          "execution_count": 26
        }
      ],
      "source": [
        "testkata = 'pemerintah yang buruk di kacau 1023 !'\n",
        "prepro=text_preprocessing(testkata)\n",
        "print(prepro)\n",
        "\n",
        "sequence_testing=tokenizer.texts_to_sequences(prepro)\n",
        "\n",
        "print(len(sequence_testing))\n",
        "data_testing=pad_sequences(sequence_testing,maxlen=T)\n",
        "print(data_testing.shape)\n",
        "pred=model.predict(data_testing)\n",
        "pred\n"
      ]
    },
    {
      "cell_type": "code",
      "execution_count": 27,
      "metadata": {
        "colab": {
          "base_uri": "https://localhost:8080/"
        },
        "id": "M2Fw2PLYtGCP",
        "outputId": "42b59ee0-d360-4614-e6e5-e9c7e2678324"
      },
      "outputs": [
        {
          "output_type": "execute_result",
          "data": {
            "text/plain": [
              "(132, 105)"
            ]
          },
          "metadata": {},
          "execution_count": 27
        }
      ],
      "source": [
        "y_pred.shape\n",
        "data_test.shape"
      ]
    },
    {
      "cell_type": "code",
      "execution_count": 28,
      "metadata": {
        "colab": {
          "base_uri": "https://localhost:8080/"
        },
        "id": "V711yo3AeMrg",
        "outputId": "4fcf3f8f-35f0-4e77-ca1e-66fdd79953f9"
      },
      "outputs": [
        {
          "output_type": "execute_result",
          "data": {
            "text/plain": [
              "array([1, 1, 0, 1, 1, 0, 1, 0, 0, 1, 1, 1, 0, 1, 0, 1, 1, 1, 1, 1, 1, 0,\n",
              "       1, 1, 0, 1, 0, 1, 1, 1, 1, 1, 1, 0, 1, 0, 1, 1, 1, 1, 1, 0, 1, 1,\n",
              "       1, 1, 0, 0, 0, 0, 0, 1, 1, 1, 1, 1, 1, 1, 1, 0, 1, 1, 1, 1, 1, 1,\n",
              "       1, 1, 1, 1, 1, 0, 0, 1, 1, 1, 1, 0, 1, 1, 0, 0, 0, 0, 1, 0, 1, 1,\n",
              "       0, 1, 1, 1, 0, 1, 1, 1, 1, 1, 1, 0, 1, 1, 1, 1, 1, 0, 1, 1, 1, 0,\n",
              "       1, 0, 1, 1, 1, 1, 1, 1, 1, 1, 1, 0, 0, 1, 1, 1, 0, 1, 0, 0, 1, 1])"
            ]
          },
          "metadata": {},
          "execution_count": 28
        }
      ],
      "source": [
        "import numpy as np\n",
        "y_pred=np.argmax(y_pred,axis=1)\n",
        "y_pred"
      ]
    },
    {
      "cell_type": "code",
      "execution_count": 29,
      "metadata": {
        "id": "q7-yPChReY5i"
      },
      "outputs": [],
      "source": [
        "from sklearn.metrics import confusion_matrix,classification_report\n",
        "import seaborn as sns"
      ]
    },
    {
      "cell_type": "code",
      "execution_count": 30,
      "metadata": {
        "colab": {
          "base_uri": "https://localhost:8080/",
          "height": 313
        },
        "id": "0bophEeAehE-",
        "outputId": "4484f161-43f0-4948-aa8c-67fcb6a44b4e"
      },
      "outputs": [
        {
          "output_type": "execute_result",
          "data": {
            "text/plain": [
              "Text(33.0, 0.5, 'y_pred')"
            ]
          },
          "metadata": {},
          "execution_count": 30
        },
        {
          "output_type": "display_data",
          "data": {
            "text/plain": [
              "<Figure size 432x288 with 2 Axes>"
            ],
            "image/png": "[encoded data removed]"
          },
          "metadata": {
            "needs_background": "light"
          }
        }
      ],
      "source": [
        "cm=confusion_matrix(y_test,y_pred)\n",
        "ax=sns.heatmap(cm,annot=True,cmap='Pastel1',fmt=' ')\n",
        "ax.set_title('Confusion Matrix')\n",
        "ax.set_xlabel('y_test')\n",
        "ax.set_ylabel('y_pred')"
      ]
    },
    {
      "cell_type": "code",
      "execution_count": 31,
      "metadata": {
        "colab": {
          "base_uri": "https://localhost:8080/"
        },
        "id": "-IyFGxL2enG1",
        "outputId": "9bd2178b-bdc5-4aae-d260-d2440ca6474c"
      },
      "outputs": [
        {
          "output_type": "stream",
          "name": "stdout",
          "text": [
            "              precision    recall  f1-score   support\n",
            "\n",
            "           0       0.78      0.42      0.55        69\n",
            "           1       0.58      0.87      0.70        63\n",
            "\n",
            "    accuracy                           0.64       132\n",
            "   macro avg       0.68      0.65      0.62       132\n",
            "weighted avg       0.69      0.64      0.62       132\n",
            "\n"
          ]
        }
      ],
      "source": [
        "print(classification_report(y_test,y_pred))"
      ]
    }
  ],
  "metadata": {
    "accelerator": "GPU",
    "colab": {
      "provenance": []
    },
    "gpuClass": "standard",
    "kernelspec": {
      "display_name": "Python 3",
      "name": "python3"
    },
    "language_info": {
      "name": "python"
    }
  },
  "nbformat": 4,
  "nbformat_minor": 0
}